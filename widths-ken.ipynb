{
 "cells": [
  {
   "cell_type": "code",
   "execution_count": 1,
   "metadata": {},
   "outputs": [],
   "source": [
    "import json\n",
    "import math\n",
    "import pyvista as pv\n",
    "import numpy as np\n",
    "import matplotlib.pyplot as plt\n",
    "import pprint\n",
    "pp = pprint.PrettyPrinter(indent=2)\n",
    "\n",
    "filename = \"/Users/ken/Downloads/montreal_final.json\""
   ]
  },
  {
   "cell_type": "markdown",
   "metadata": {},
   "source": [
    "## Read data"
   ]
  },
  {
   "cell_type": "code",
   "execution_count": 2,
   "metadata": {},
   "outputs": [
    {
     "data": {
      "text/plain": [
       "28018"
      ]
     },
     "execution_count": 2,
     "metadata": {},
     "output_type": "execute_result"
    }
   ],
   "source": [
    "with open(filename) as file:\n",
    "    cm = json.load(file)\n",
    "    \n",
    "len(cm[\"CityObjects\"])"
   ]
  },
  {
   "cell_type": "markdown",
   "metadata": {},
   "source": [
    "## Totals"
   ]
  },
  {
   "cell_type": "code",
   "execution_count": 3,
   "metadata": {},
   "outputs": [
    {
     "name": "stdout",
     "output_type": "stream",
     "text": [
      "Road: 4387\n",
      "Building: 19430\n",
      "LandUse: 4120\n",
      "PlantCover: 80\n",
      "WaterBody: 1\n"
     ]
    }
   ],
   "source": [
    "totals = {}\n",
    "for co_id, co in cm[\"CityObjects\"].items():\n",
    "    if co[\"type\"] in totals:\n",
    "        totals[co[\"type\"]] += 1\n",
    "    else:\n",
    "        totals[co[\"type\"]] = 1\n",
    "        \n",
    "for co_type, co_total in totals.items():\n",
    "    print(str(co_type) + \": \" + str(co_total))"
   ]
  },
  {
   "cell_type": "markdown",
   "metadata": {},
   "source": [
    "## Load roads and buildings into PyVista"
   ]
  },
  {
   "cell_type": "code",
   "execution_count": 4,
   "metadata": {},
   "outputs": [],
   "source": [
    "roads = {}\n",
    "buildings = {}\n",
    "\n",
    "for co_id in list(cm[\"CityObjects\"]):\n",
    "    co = cm[\"CityObjects\"][co_id]\n",
    "    \n",
    "    if co[\"type\"] == \"Road\":\n",
    "        roads[co_id] = {}\n",
    "        for geom in co[\"geometry\"]:\n",
    "            if geom[\"type\"] == \"MultiLineString\":\n",
    "                geom_line = geom\n",
    "            if geom[\"type\"] == \"MultiSurface\":\n",
    "                geom_surface = geom\n",
    "                \n",
    "        lines = []\n",
    "        lines_vertices = []\n",
    "        num_lines = 0\n",
    "        for segment in geom_line[\"boundaries\"]:\n",
    "            lines.extend([2, 2*num_lines, 2*num_lines+1])\n",
    "            lines_vertices.extend([cm[\"vertices\"][segment[0]], cm[\"vertices\"][segment[1]]])\n",
    "            num_lines += 1\n",
    "        if len(lines) > 0:\n",
    "            mesh_lines = pv.PolyData(lines_vertices, lines=lines, n_lines=len(geom_line[\"boundaries\"]))\n",
    "            roads[co_id][\"line\"] = mesh_lines\n",
    "        \n",
    "        surface = []\n",
    "        surface_vertices = []\n",
    "        num_triangles = 0\n",
    "        for triangle in geom_surface[\"boundaries\"]:\n",
    "            surface.extend([3, 3*num_triangles, 3*num_triangles+1, 3*num_triangles+2])\n",
    "            surface_vertices.extend([cm[\"vertices\"][triangle[0][0]], cm[\"vertices\"][triangle[0][1]], cm[\"vertices\"][triangle[0][2]]])\n",
    "            num_triangles += 1\n",
    "        if len(surface) > 0:\n",
    "            mesh_surface = pv.PolyData(surface_vertices, surface, len(geom_surface[\"boundaries\"]))\n",
    "            roads[co_id][\"surface\"] = mesh_surface\n",
    "            \n",
    "    if co[\"type\"] == \"Building\":\n",
    "        buildings[co_id] = {}\n",
    "        for geom in co[\"geometry\"]:\n",
    "            if geom[\"type\"] == \"Solid\":\n",
    "                geom_solid = geom\n",
    "        \n",
    "        surface = []\n",
    "        surface_vertices = []\n",
    "        num_triangles = 0\n",
    "        for triangle in geom_solid[\"boundaries\"][0]:\n",
    "            surface.extend([3, 3*num_triangles, 3*num_triangles+1, 3*num_triangles+2])\n",
    "            surface_vertices.extend([cm[\"vertices\"][triangle[0][0]], cm[\"vertices\"][triangle[0][1]], cm[\"vertices\"][triangle[0][2]]])\n",
    "            num_triangles += 1\n",
    "        if len(surface) > 0:\n",
    "            mesh_surface = pv.PolyData(surface_vertices, surface, len(geom_surface[\"boundaries\"]))\n",
    "            buildings[co_id][\"surface\"] = mesh_surface\n",
    "        "
   ]
  },
  {
   "cell_type": "markdown",
   "metadata": {},
   "source": [
    "## Remove roads and buildings without required geometries"
   ]
  },
  {
   "cell_type": "code",
   "execution_count": 5,
   "metadata": {},
   "outputs": [
    {
     "name": "stdout",
     "output_type": "stream",
     "text": [
      "1968 roads\n",
      "19430 buildings\n"
     ]
    }
   ],
   "source": [
    "for road_id in list(roads):\n",
    "    if \"surface\" not in roads[road_id] or \"line\" not in roads[road_id]:\n",
    "        roads.pop(road_id)\n",
    "        \n",
    "for building_id in list(buildings):\n",
    "    if \"surface\" not in buildings[building_id]:\n",
    "        buildings.pop(building_id)\n",
    "        \n",
    "print(str(len(roads)) + \" roads\")\n",
    "print(str(len(buildings)) + \" buildings\")"
   ]
  },
  {
   "cell_type": "markdown",
   "metadata": {},
   "source": [
    "## Compute widths"
   ]
  },
  {
   "cell_type": "code",
   "execution_count": 6,
   "metadata": {},
   "outputs": [],
   "source": [
    "def bbox_distance(pd1, pd2):\n",
    "    xmin1 = pd1.bounds[0]\n",
    "    xmax1 = pd1.bounds[1]\n",
    "    ymin1 = pd1.bounds[2]\n",
    "    ymax1 = pd1.bounds[3]\n",
    "    zmin1 = pd1.bounds[4]\n",
    "    zmax1 = pd1.bounds[5]\n",
    "    xmin2 = pd2.bounds[0]\n",
    "    xmax2 = pd2.bounds[1]\n",
    "    ymin2 = pd2.bounds[2]\n",
    "    ymax2 = pd2.bounds[3]\n",
    "    zmin2 = pd2.bounds[4]\n",
    "    zmax2 = pd2.bounds[5]\n",
    "    if xmin1 > xmax2:\n",
    "        xdist = xmin1-xmax2\n",
    "    elif xmax1 < xmin2:\n",
    "        xdist = xmin2-xmax1\n",
    "    else:\n",
    "        xdist = 0.0\n",
    "    if ymin1 > ymax2:\n",
    "        ydist = ymin1-ymax2\n",
    "    elif ymax1 < ymin2:\n",
    "        ydist = ymin2-ymax1\n",
    "    else:\n",
    "        ydist = 0.0\n",
    "    if zmin1 > zmax2:\n",
    "        zdist = zmin1-zmax2\n",
    "    elif zmax1 < zmin2:\n",
    "        zdist = zmin2-zmax1\n",
    "    else:\n",
    "        zdist = 0.0\n",
    "    return math.sqrt(xdist*xdist + ydist*ydist + zdist*zdist)"
   ]
  },
  {
   "cell_type": "code",
   "execution_count": 7,
   "metadata": {},
   "outputs": [
    {
     "ename": "NameError",
     "evalue": "name 'interval' is not defined",
     "output_type": "error",
     "traceback": [
      "\u001b[0;31m---------------------------------------------------------------------------\u001b[0m",
      "\u001b[0;31mNameError\u001b[0m                                 Traceback (most recent call last)",
      "\u001b[0;32m<ipython-input-7-12a1da973d35>\u001b[0m in \u001b[0;36m<module>\u001b[0;34m\u001b[0m\n\u001b[1;32m     39\u001b[0m         \u001b[0mnorm\u001b[0m \u001b[0;34m=\u001b[0m \u001b[0mnp\u001b[0m\u001b[0;34m.\u001b[0m\u001b[0mlinalg\u001b[0m\u001b[0;34m.\u001b[0m\u001b[0mnorm\u001b[0m\u001b[0;34m(\u001b[0m\u001b[0mline_vector\u001b[0m\u001b[0;34m)\u001b[0m\u001b[0;34m\u001b[0m\u001b[0;34m\u001b[0m\u001b[0m\n\u001b[1;32m     40\u001b[0m         \u001b[0mline_vector\u001b[0m \u001b[0;34m/=\u001b[0m \u001b[0mnorm\u001b[0m\u001b[0;34m\u001b[0m\u001b[0;34m\u001b[0m\u001b[0m\n\u001b[0;32m---> 41\u001b[0;31m         \u001b[0mstart\u001b[0m \u001b[0;34m=\u001b[0m \u001b[0;34m(\u001b[0m\u001b[0mnorm\u001b[0m\u001b[0;34m-\u001b[0m\u001b[0minterval\u001b[0m\u001b[0;34m*\u001b[0m\u001b[0mmath\u001b[0m\u001b[0;34m.\u001b[0m\u001b[0mfloor\u001b[0m\u001b[0;34m(\u001b[0m\u001b[0mnorm\u001b[0m\u001b[0;34m/\u001b[0m\u001b[0mslice_interval\u001b[0m\u001b[0;34m)\u001b[0m\u001b[0;34m)\u001b[0m\u001b[0;34m/\u001b[0m\u001b[0;36m2.0\u001b[0m\u001b[0;34m\u001b[0m\u001b[0;34m\u001b[0m\u001b[0m\n\u001b[0m\u001b[1;32m     42\u001b[0m         \u001b[0;32mfor\u001b[0m \u001b[0mj\u001b[0m \u001b[0;32min\u001b[0m \u001b[0mnp\u001b[0m\u001b[0;34m.\u001b[0m\u001b[0marange\u001b[0m\u001b[0;34m(\u001b[0m\u001b[0mstart\u001b[0m\u001b[0;34m,\u001b[0m \u001b[0mnorm\u001b[0m\u001b[0;34m,\u001b[0m \u001b[0mslice_interval\u001b[0m\u001b[0;34m)\u001b[0m\u001b[0;34m:\u001b[0m\u001b[0;34m\u001b[0m\u001b[0;34m\u001b[0m\u001b[0m\n\u001b[1;32m     43\u001b[0m             \u001b[0mpoints_along_line\u001b[0m\u001b[0;34m.\u001b[0m\u001b[0mappend\u001b[0m\u001b[0;34m(\u001b[0m\u001b[0mline_vector\u001b[0m\u001b[0;34m*\u001b[0m\u001b[0mj\u001b[0m\u001b[0;34m+\u001b[0m\u001b[0mline_start\u001b[0m\u001b[0;34m)\u001b[0m\u001b[0;34m\u001b[0m\u001b[0;34m\u001b[0m\u001b[0m\n",
      "\u001b[0;31mNameError\u001b[0m: name 'interval' is not defined"
     ]
    }
   ],
   "source": [
    "search_radius = 20.0 # for each road, use buildings roughly this distance away (bounding boxes)\n",
    "view_height = 5.0 # how high the viewpoint is\n",
    "slice_interval = 5.0 # distance between slices\n",
    "angles_to_test = 36 # how many angles to test\n",
    "\n",
    "viewpoint = np.array([0, 0, view_height])\n",
    "angle_interval = int(360/angles_to_test)\n",
    "for road_id in list(roads)[50:51]: # limited for testing\n",
    "    \n",
    "    # For each road, find nearby buildings\n",
    "    nearby_buildings = []\n",
    "    for building_id in list(buildings):\n",
    "        if bbox_distance(roads[road_id][\"surface\"], buildings[building_id][\"surface\"]) < search_radius:\n",
    "            nearby_buildings.append(building_id)\n",
    "    roads[road_id][\"nearby_buildings\"] = nearby_buildings # stored as IDs\n",
    "    \n",
    "    # Create one mesh with nearby buildings\n",
    "    vertices = []\n",
    "    faces = []\n",
    "    num_triangles = 0\n",
    "    for building_id in roads[road_id][\"nearby_buildings\"]:\n",
    "        for i in range(int(len(buildings[building_id][\"surface\"].faces)/4)):\n",
    "            vertices.extend([buildings[building_id][\"surface\"].points[buildings[building_id][\"surface\"].faces[4*i+1]],\n",
    "                             buildings[building_id][\"surface\"].points[buildings[building_id][\"surface\"].faces[4*i+2]],\n",
    "                             buildings[building_id][\"surface\"].points[buildings[building_id][\"surface\"].faces[4*i+3]]])\n",
    "            faces.extend([3, 3*num_triangles, 3*num_triangles+1, 3*num_triangles+2])\n",
    "            num_triangles += 1\n",
    "    nearby_buildings = pv.PolyData(vertices, faces, num_triangles)\n",
    "    \n",
    "    # Compute slices\n",
    "    points_along_line = []\n",
    "    line_slices = []\n",
    "    line_slices_2d = []\n",
    "    for i in range(int(len(roads[road_id][\"line\"].lines)/3)):\n",
    "        line_start = roads[road_id][\"line\"].points[roads[road_id][\"line\"].lines[3*i+1]]\n",
    "        line_end = roads[road_id][\"line\"].points[roads[road_id][\"line\"].lines[3*i+2]]\n",
    "        line_vector = line_end-line_start # used to cut orthogonally along road line\n",
    "        line_vector[2] = 0.0 # make sure the slices are vertical\n",
    "        norm = np.linalg.norm(line_vector)\n",
    "        line_vector /= norm\n",
    "        start = (norm-slice_interval*math.floor(norm/slice_interval))/2.0\n",
    "        for j in np.arange(start, norm, slice_interval):\n",
    "            points_along_line.append(line_vector*j+line_start)\n",
    "            line_slices.append(nearby_buildings.slice(line_vector, points_along_line[-1]))\n",
    "            centred_points = line_slices[-1].points-points_along_line[-1]\n",
    "            points_2d = []\n",
    "            for p in centred_points:\n",
    "                magnitude = math.sqrt(p[0]*p[0]+p[1]*p[1])\n",
    "                orientation = math.atan2(p[1], p[0])\n",
    "                if orientation > -0.5*math.pi and orientation < 0.5*math.pi:\n",
    "                    points_2d.append([magnitude, 0.0, p[2]])\n",
    "                else:\n",
    "                    points_2d.append([-magnitude, 0.0, p[2]])\n",
    "            line_slices_2d.append(pv.PolyData(points_2d, lines=line_slices[-1].lines, n_lines=int(len(line_slices[-1].lines)/3)))\n",
    "    roads[road_id][\"slice_points\"] = points_along_line\n",
    "    roads[road_id][\"slices\"] = line_slices\n",
    "    roads[road_id][\"slices_2d\"] = line_slices_2d\n",
    "    \n",
    "    # Compute minimum distances for each angle\n",
    "    roads[road_id][\"viewpoint_distances\"] = []\n",
    "    for road_slice in roads[road_id][\"slices_2d\"]:\n",
    "        roads[road_id][\"viewpoint_distances\"].append({})\n",
    "        for angle in range(0, 360, angle_interval):\n",
    "            roads[road_id][\"viewpoint_distances\"][-1][int(angle)] = math.inf\n",
    "        \n",
    "        for i in range(int(len(road_slice.lines)/3)):\n",
    "            line_start = road_slice.points[road_slice.lines[3*i+1]]-viewpoint\n",
    "            line_end = road_slice.points[road_slice.lines[3*i+2]]-viewpoint\n",
    "            # print(\"Line: \" + str(line_start) + \" to \" + str(line_end))\n",
    "            line_start_angle = 180.0*math.atan2(line_start[2], line_start[0])/math.pi\n",
    "            if line_start_angle < 0.0:\n",
    "                line_start_angle += 360.0\n",
    "            line_end_angle = 180.0*math.atan2(line_end[2], line_end[0])/math.pi\n",
    "            if line_end_angle < 0.0:\n",
    "                line_end_angle += 360.0\n",
    "            angles_diff = line_end_angle-line_start_angle\n",
    "            if angles_diff > -180.0 and angles_diff < 0.0: # always do ccw\n",
    "                line_start, line_end = line_end, line_start\n",
    "                line_start_angle, line_end_angle = line_end_angle, line_start_angle\n",
    "                angles_diff = line_end_angle-line_start_angle\n",
    "            # print(\"\\tangles: \" + str(line_start_angle) + \" to \" + str(line_end_angle) + \" diff: \" + str(angles_diff))\n",
    "            iteration_start = math.ceil(line_start_angle/angle_interval)*angle_interval\n",
    "            iteration_end = math.floor(line_end_angle/angle_interval)*angle_interval\n",
    "            # print(\"\\titeration: \" + str(iteration_start) + \" to \" + str(iteration_end))\n",
    "            if angles_diff < 0.0:\n",
    "                iteration_range = [*range(iteration_start, 360, angle_interval)]\n",
    "                iteration_range.extend(range(0, iteration_end+angle_interval, angle_interval))\n",
    "            else: # cases where we have 0 degrees in the middle\n",
    "                iteration_range = range(iteration_start, iteration_end+angle_interval, angle_interval)\n",
    "            for j in iteration_range:\n",
    "                v1 = np.array([-line_start[0], -line_start[2]])\n",
    "                v2 = np.array([line_end[0]-line_start[0], line_end[2]-line_start[2]])\n",
    "                v3 = np.array([-math.sin(j*math.pi/180.0), math.cos(j*math.pi/180.0)])\n",
    "                t1 = np.cross(v2, v1) / np.dot(v2, v3)\n",
    "                t2 = np.dot(v1, v3) / np.dot(v2, v3)\n",
    "                if t1 >= 0.0 and t2 >= 0.0 and t2 <= 1.0:\n",
    "                    # print(\"\\t\\t\" + str(j) + \": \" + str(t1))\n",
    "                    if t1 < roads[road_id][\"viewpoint_distances\"][-1][j]:\n",
    "                        roads[road_id][\"viewpoint_distances\"][-1][j] = t1"
   ]
  },
  {
   "cell_type": "markdown",
   "metadata": {},
   "source": [
    "## Plots: nearby buildings"
   ]
  },
  {
   "cell_type": "code",
   "execution_count": null,
   "metadata": {},
   "outputs": [],
   "source": [
    "p = pv.Plotter()\n",
    "\n",
    "for road_id in list(roads)[50:51]: # nice example road\n",
    "    p.add_mesh(roads[road_id][\"surface\"], color=\"black\")\n",
    "    p.add_mesh(roads[road_id][\"line\"], color=\"yellow\", line_width=2)\n",
    "    if \"nearby_buildings\" in roads[road_id]:\n",
    "        for building_id in roads[road_id][\"nearby_buildings\"]:\n",
    "            p.add_mesh(buildings[building_id][\"surface\"], color=\"red\", show_edges=True)\n",
    "\n",
    "p.show()"
   ]
  },
  {
   "cell_type": "markdown",
   "metadata": {},
   "source": [
    "## Plots: slices"
   ]
  },
  {
   "cell_type": "code",
   "execution_count": null,
   "metadata": {},
   "outputs": [],
   "source": [
    "p = pv.Plotter()\n",
    "\n",
    "for road_id in list(roads)[50:51]: # nice example road\n",
    "    p.add_mesh(roads[road_id][\"surface\"], color=\"black\")\n",
    "    p.add_mesh(roads[road_id][\"line\"], color=\"yellow\", line_width=2)\n",
    "    if \"nearby_buildings\" in roads[road_id]:\n",
    "        for building_id in roads[road_id][\"nearby_buildings\"]:\n",
    "            p.add_mesh(buildings[building_id][\"surface\"], color=\"white\", opacity=0.5)\n",
    "    if \"slices\" in roads[road_id]:\n",
    "        for s in roads[road_id][\"slices\"]:\n",
    "            p.add_mesh(s, color=\"blue\", line_width=2)\n",
    "    points = pv.PolyData(roads[road_id][\"slice_points\"])\n",
    "    p.add_points(points, color=\"red\")\n",
    "p.show()"
   ]
  },
  {
   "cell_type": "markdown",
   "metadata": {},
   "source": [
    "## Plots: slices in 2D"
   ]
  },
  {
   "cell_type": "code",
   "execution_count": null,
   "metadata": {},
   "outputs": [],
   "source": [
    "figure = 1\n",
    "\n",
    "for road_id in list(roads)[50:51]: # nice example road\n",
    "    for road_slice in roads[road_id][\"slices_2d\"]:\n",
    "        plt.figure(figure)\n",
    "        figure += 1\n",
    "        for i in range(int(len(road_slice.lines)/3)):\n",
    "            line_start = road_slice.points[road_slice.lines[3*i+1]]\n",
    "            line_end = road_slice.points[road_slice.lines[3*i+2]]\n",
    "            plt.plot([line_start[0], line_end[0]], [line_start[2], line_end[2]], \n",
    "                     'b-', lw=2)\n",
    "        plt.plot(0.0, view_height, 'ro')\n",
    "        plt.axis('scaled')\n",
    "        plt.show()"
   ]
  },
  {
   "cell_type": "markdown",
   "metadata": {},
   "source": [
    "## Plots: slices in 2D (polar coordinates)"
   ]
  },
  {
   "cell_type": "code",
   "execution_count": null,
   "metadata": {},
   "outputs": [],
   "source": [
    "for road_id in list(roads)[50:51]: # nice example road\n",
    "    for road_slice in roads[road_id][\"slices_2d\"]:\n",
    "        plt.figure(figure)\n",
    "        figure += 1\n",
    "        viewpoint = np.array([0, 0, view_height])\n",
    "        ax = plt.subplot(111, projection='polar')\n",
    "        for i in range(int(len(road_slice.lines)/3)):\n",
    "            line_start = road_slice.points[road_slice.lines[3*i+1]]-viewpoint\n",
    "            line_end = road_slice.points[road_slice.lines[3*i+2]]-viewpoint\n",
    "            \n",
    "            line_start_polar = [math.atan2(line_start[2], line_start[0]),\n",
    "                                math.sqrt(line_start[0]*line_start[0]+line_start[2]*line_start[2])]\n",
    "            line_end_polar = [math.atan2(line_end[2], line_end[0]),\n",
    "                                math.sqrt(line_end[0]*line_end[0]+line_end[2]*line_end[2])]\n",
    "            plt.plot([line_start_polar[0], line_end_polar[0]], [line_start_polar[1], line_end_polar[1]], \n",
    "                     'b-', lw=2)\n",
    "        plt.plot(0.0, 0.0, 'ro')\n",
    "        plt.show()\n"
   ]
  },
  {
   "cell_type": "markdown",
   "metadata": {},
   "source": [
    "# Plots: minimum distances for angles"
   ]
  },
  {
   "cell_type": "code",
   "execution_count": null,
   "metadata": {},
   "outputs": [],
   "source": [
    "for road_id in list(roads)[50:51]: # nice example road\n",
    "    for road_slice in roads[road_id][\"viewpoint_distances\"]:\n",
    "        plt.figure(figure)\n",
    "        figure += 1\n",
    "        for angle in road_slice:\n",
    "            if road_slice[angle] < math.inf:\n",
    "                # print(str(angle) + \": \" + str(road_slice[angle]))\n",
    "                plt.polar(math.pi*angle/180.0, road_slice[angle]/180.0, 'bo')\n",
    "        plt.show()"
   ]
  }
 ],
 "metadata": {
  "kernelspec": {
   "display_name": "Python 3",
   "language": "python",
   "name": "python3"
  },
  "language_info": {
   "codemirror_mode": {
    "name": "ipython",
    "version": 3
   },
   "file_extension": ".py",
   "mimetype": "text/x-python",
   "name": "python",
   "nbconvert_exporter": "python",
   "pygments_lexer": "ipython3",
   "version": "3.8.6"
  }
 },
 "nbformat": 4,
 "nbformat_minor": 4
}
