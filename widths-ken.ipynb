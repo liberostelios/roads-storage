{
 "cells": [
  {
   "cell_type": "code",
   "execution_count": 1,
   "metadata": {},
   "outputs": [],
   "source": [
    "import json\n",
    "import pyvista as pv\n",
    "import numpy as np\n",
    "import pprint\n",
    "pp = pprint.PrettyPrinter(indent=2)\n",
    "\n",
    "filename = \"/Users/ken/Downloads/montreal_final.json\""
   ]
  },
  {
   "cell_type": "code",
   "execution_count": 2,
   "metadata": {},
   "outputs": [
    {
     "data": {
      "text/plain": [
       "28018"
      ]
     },
     "execution_count": 2,
     "metadata": {},
     "output_type": "execute_result"
    }
   ],
   "source": [
    "with open(filename) as file:\n",
    "    cm = json.load(file)\n",
    "    \n",
    "len(cm[\"CityObjects\"])"
   ]
  },
  {
   "cell_type": "code",
   "execution_count": 3,
   "metadata": {},
   "outputs": [
    {
     "name": "stdout",
     "output_type": "stream",
     "text": [
      "Road: 4387\n",
      "Building: 19430\n",
      "LandUse: 4120\n",
      "PlantCover: 80\n",
      "WaterBody: 1\n"
     ]
    }
   ],
   "source": [
    "totals = {}\n",
    "for co_id, co in cm[\"CityObjects\"].items():\n",
    "    if co[\"type\"] in totals:\n",
    "        totals[co[\"type\"]] += 1\n",
    "    else:\n",
    "        totals[co[\"type\"]] = 1\n",
    "        \n",
    "for co_type, co_total in totals.items():\n",
    "    print(str(co_type) + \": \" + str(co_total))"
   ]
  },
  {
   "cell_type": "code",
   "execution_count": 28,
   "metadata": {},
   "outputs": [],
   "source": [
    "roads = {}\n",
    "buildings = {}\n",
    "\n",
    "for co_id in list(cm[\"CityObjects\"])[0:100]:\n",
    "    co = cm[\"CityObjects\"][co_id]\n",
    "    \n",
    "    if co[\"type\"] == \"Road\":\n",
    "        roads[co_id] = {}\n",
    "        for geom in co[\"geometry\"]:\n",
    "            if geom[\"type\"] == \"MultiLineString\":\n",
    "                geom_line = geom\n",
    "            if geom[\"type\"] == \"MultiSurface\":\n",
    "                geom_surface = geom\n",
    "                \n",
    "        lines = []\n",
    "        lines_vertices = []\n",
    "        num_lines = 0\n",
    "        for segment in geom_line[\"boundaries\"]:\n",
    "            lines.extend([2, 2*num_lines, 2*num_lines+1])\n",
    "            lines_vertices.extend([cm[\"vertices\"][segment[0]], cm[\"vertices\"][segment[1]]])\n",
    "            num_lines += 1\n",
    "        if len(lines) > 0:\n",
    "            mesh_lines = pv.PolyData(lines_vertices, lines=lines, n_lines=len(geom_line[\"boundaries\"]))\n",
    "            roads[co_id][\"line\"] = mesh_lines\n",
    "        \n",
    "        surface = []\n",
    "        surface_vertices = []\n",
    "        num_triangles = 0\n",
    "        for triangle in geom_surface[\"boundaries\"]:\n",
    "            surface.extend([3, 3*num_triangles, 3*num_triangles+1, 3*num_triangles+2])\n",
    "            surface_vertices.extend([cm[\"vertices\"][triangle[0][0]], cm[\"vertices\"][triangle[0][1]], cm[\"vertices\"][triangle[0][2]]])\n",
    "            num_triangles += 1\n",
    "        if len(surface) > 0:\n",
    "            mesh_surface = pv.PolyData(surface_vertices, surface, len(geom_surface[\"boundaries\"]))\n",
    "            roads[co_id][\"surface\"] = mesh_surface\n",
    "            \n",
    "    if co[\"type\"] == \"Building\":\n",
    "        buildings[co_id] = {}\n",
    "        "
   ]
  },
  {
   "cell_type": "code",
   "execution_count": 31,
   "metadata": {},
   "outputs": [
    {
     "data": {
      "application/vnd.jupyter.widget-view+json": {
       "model_id": "5970c9ea102c408fb706f139f979b121",
       "version_major": 2,
       "version_minor": 0
      },
      "text/plain": [
       "ViewInteractiveWidget(height=768, layout=Layout(height='auto', width='100%'), width=1024)"
      ]
     },
     "metadata": {},
     "output_type": "display_data"
    }
   ],
   "source": [
    "p = pv.Plotter()\n",
    "\n",
    "for road in roads.values():\n",
    "    if \"surface\" in road and \"line\" in road:\n",
    "        p.add_mesh(road[\"surface\"], opacity=0.5, show_edges=True)\n",
    "        p.add_mesh(road[\"line\"], color=\"red\", line_width=2)\n",
    "\n",
    "p.show()"
   ]
  }
 ],
 "metadata": {
  "kernelspec": {
   "display_name": "Python 3",
   "language": "python",
   "name": "python3"
  },
  "language_info": {
   "codemirror_mode": {
    "name": "ipython",
    "version": 3
   },
   "file_extension": ".py",
   "mimetype": "text/x-python",
   "name": "python",
   "nbconvert_exporter": "python",
   "pygments_lexer": "ipython3",
   "version": "3.8.6"
  }
 },
 "nbformat": 4,
 "nbformat_minor": 4
}
