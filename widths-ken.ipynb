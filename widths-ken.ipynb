{
 "cells": [
  {
   "cell_type": "code",
   "execution_count": 1,
   "metadata": {},
   "outputs": [],
   "source": [
    "import json\n",
    "import math\n",
    "import pyvista as pv\n",
    "import numpy as np\n",
    "import pprint\n",
    "pp = pprint.PrettyPrinter(indent=2)\n",
    "\n",
    "filename = \"/Users/ken/Downloads/montreal_final.json\""
   ]
  },
  {
   "cell_type": "markdown",
   "metadata": {},
   "source": [
    "## Read data"
   ]
  },
  {
   "cell_type": "code",
   "execution_count": 2,
   "metadata": {},
   "outputs": [
    {
     "data": {
      "text/plain": [
       "28018"
      ]
     },
     "execution_count": 2,
     "metadata": {},
     "output_type": "execute_result"
    }
   ],
   "source": [
    "with open(filename) as file:\n",
    "    cm = json.load(file)\n",
    "    \n",
    "len(cm[\"CityObjects\"])"
   ]
  },
  {
   "cell_type": "markdown",
   "metadata": {},
   "source": [
    "## Totals"
   ]
  },
  {
   "cell_type": "code",
   "execution_count": 3,
   "metadata": {},
   "outputs": [
    {
     "name": "stdout",
     "output_type": "stream",
     "text": [
      "Road: 4387\n",
      "Building: 19430\n",
      "LandUse: 4120\n",
      "PlantCover: 80\n",
      "WaterBody: 1\n"
     ]
    }
   ],
   "source": [
    "totals = {}\n",
    "for co_id, co in cm[\"CityObjects\"].items():\n",
    "    if co[\"type\"] in totals:\n",
    "        totals[co[\"type\"]] += 1\n",
    "    else:\n",
    "        totals[co[\"type\"]] = 1\n",
    "        \n",
    "for co_type, co_total in totals.items():\n",
    "    print(str(co_type) + \": \" + str(co_total))"
   ]
  },
  {
   "cell_type": "markdown",
   "metadata": {},
   "source": [
    "## Load roads and buildings into PyVista"
   ]
  },
  {
   "cell_type": "code",
   "execution_count": 61,
   "metadata": {},
   "outputs": [],
   "source": [
    "roads = {}\n",
    "buildings = {}\n",
    "\n",
    "for co_id in list(cm[\"CityObjects\"]):\n",
    "    co = cm[\"CityObjects\"][co_id]\n",
    "    \n",
    "    if co[\"type\"] == \"Road\":\n",
    "        roads[co_id] = {}\n",
    "        for geom in co[\"geometry\"]:\n",
    "            if geom[\"type\"] == \"MultiLineString\":\n",
    "                geom_line = geom\n",
    "            if geom[\"type\"] == \"MultiSurface\":\n",
    "                geom_surface = geom\n",
    "                \n",
    "        lines = []\n",
    "        lines_vertices = []\n",
    "        num_lines = 0\n",
    "        for segment in geom_line[\"boundaries\"]:\n",
    "            lines.extend([2, 2*num_lines, 2*num_lines+1])\n",
    "            lines_vertices.extend([cm[\"vertices\"][segment[0]], cm[\"vertices\"][segment[1]]])\n",
    "            num_lines += 1\n",
    "        if len(lines) > 0:\n",
    "            mesh_lines = pv.PolyData(lines_vertices, lines=lines, n_lines=len(geom_line[\"boundaries\"]))\n",
    "            roads[co_id][\"line\"] = mesh_lines\n",
    "        \n",
    "        surface = []\n",
    "        surface_vertices = []\n",
    "        num_triangles = 0\n",
    "        for triangle in geom_surface[\"boundaries\"]:\n",
    "            surface.extend([3, 3*num_triangles, 3*num_triangles+1, 3*num_triangles+2])\n",
    "            surface_vertices.extend([cm[\"vertices\"][triangle[0][0]], cm[\"vertices\"][triangle[0][1]], cm[\"vertices\"][triangle[0][2]]])\n",
    "            num_triangles += 1\n",
    "        if len(surface) > 0:\n",
    "            mesh_surface = pv.PolyData(surface_vertices, surface, len(geom_surface[\"boundaries\"]))\n",
    "            roads[co_id][\"surface\"] = mesh_surface\n",
    "            \n",
    "    if co[\"type\"] == \"Building\":\n",
    "        buildings[co_id] = {}\n",
    "        for geom in co[\"geometry\"]:\n",
    "            if geom[\"type\"] == \"Solid\":\n",
    "                geom_solid = geom\n",
    "        \n",
    "        surface = []\n",
    "        surface_vertices = []\n",
    "        num_triangles = 0\n",
    "        for triangle in geom_solid[\"boundaries\"][0]:\n",
    "            surface.extend([3, 3*num_triangles, 3*num_triangles+1, 3*num_triangles+2])\n",
    "            surface_vertices.extend([cm[\"vertices\"][triangle[0][0]], cm[\"vertices\"][triangle[0][1]], cm[\"vertices\"][triangle[0][2]]])\n",
    "            num_triangles += 1\n",
    "        if len(surface) > 0:\n",
    "            mesh_surface = pv.PolyData(surface_vertices, surface, len(geom_surface[\"boundaries\"]))\n",
    "            buildings[co_id][\"surface\"] = mesh_surface\n",
    "        "
   ]
  },
  {
   "cell_type": "markdown",
   "metadata": {},
   "source": [
    "## Remove roads and buildings without required geometries"
   ]
  },
  {
   "cell_type": "code",
   "execution_count": 63,
   "metadata": {},
   "outputs": [
    {
     "name": "stdout",
     "output_type": "stream",
     "text": [
      "1968 roads\n",
      "19430 buildings\n"
     ]
    }
   ],
   "source": [
    "for road_id in list(roads):\n",
    "    if \"surface\" not in roads[road_id] or \"line\" not in roads[road_id]:\n",
    "        roads.pop(road_id)\n",
    "        \n",
    "for building_id in list(buildings):\n",
    "    if \"surface\" not in buildings[building_id]:\n",
    "        buildings.pop(building_id)\n",
    "        \n",
    "print(str(len(roads)) + \" roads\")\n",
    "print(str(len(buildings)) + \" buildings\")"
   ]
  },
  {
   "cell_type": "markdown",
   "metadata": {},
   "source": [
    "## For each road, find nearby buildings"
   ]
  },
  {
   "cell_type": "code",
   "execution_count": 64,
   "metadata": {},
   "outputs": [],
   "source": [
    "def bbox_distance(pd1, pd2):\n",
    "    xmin1 = pd1.bounds[0]\n",
    "    xmax1 = pd1.bounds[1]\n",
    "    ymin1 = pd1.bounds[2]\n",
    "    ymax1 = pd1.bounds[3]\n",
    "    zmin1 = pd1.bounds[4]\n",
    "    zmax1 = pd1.bounds[5]\n",
    "    xmin2 = pd2.bounds[0]\n",
    "    xmax2 = pd2.bounds[1]\n",
    "    ymin2 = pd2.bounds[2]\n",
    "    ymax2 = pd2.bounds[3]\n",
    "    zmin2 = pd2.bounds[4]\n",
    "    zmax2 = pd2.bounds[5]\n",
    "    if xmin1 > xmax2:\n",
    "        xdist = xmin1-xmax2\n",
    "    elif xmax1 < xmin2:\n",
    "        xdist = xmin2-xmax1\n",
    "    else:\n",
    "        xdist = 0.0\n",
    "    if ymin1 > ymax2:\n",
    "        ydist = ymin1-ymax2\n",
    "    elif ymax1 < ymin2:\n",
    "        ydist = ymin2-ymax1\n",
    "    else:\n",
    "        ydist = 0.0\n",
    "    if zmin1 > zmax2:\n",
    "        zdist = zmin1-zmax2\n",
    "    elif zmax1 < zmin2:\n",
    "        zdist = zmin2-zmax1\n",
    "    else:\n",
    "        zdist = 0.0\n",
    "    return math.sqrt(xdist*xdist + ydist*ydist + zdist*zdist)\n",
    "\n",
    "search_radius = 20.0\n",
    "for road_id in list(roads)[50:51]: # limited for testing\n",
    "    nearby_buildings = []\n",
    "    for building_id in list(buildings):\n",
    "        if bbox_distance(roads[road_id][\"surface\"], buildings[building_id][\"surface\"]) < search_radius:\n",
    "            nearby_buildings.append(building_id)\n",
    "                    \n",
    "    roads[road_id][\"nearby_buildings\"] = nearby_buildings"
   ]
  },
  {
   "cell_type": "code",
   "execution_count": 122,
   "metadata": {},
   "outputs": [
    {
     "data": {
      "application/vnd.jupyter.widget-view+json": {
       "model_id": "f083f5ddb1cb49fb95a40f6a7a5734e5",
       "version_major": 2,
       "version_minor": 0
      },
      "text/plain": [
       "ViewInteractiveWidget(height=768, layout=Layout(height='auto', width='100%'), width=1024)"
      ]
     },
     "metadata": {},
     "output_type": "display_data"
    }
   ],
   "source": [
    "p = pv.Plotter()\n",
    "\n",
    "for road_id in list(roads)[50:51]: # nice example road\n",
    "    p.add_mesh(roads[road_id][\"surface\"], color=\"black\")\n",
    "    p.add_mesh(roads[road_id][\"line\"], color=\"yellow\", line_width=2)\n",
    "    if \"nearby_buildings\" in roads[road_id]:\n",
    "        for building_id in roads[road_id][\"nearby_buildings\"]:\n",
    "            p.add_mesh(buildings[building_id][\"surface\"], color=\"red\", show_edges=True)\n",
    "\n",
    "p.show()"
   ]
  },
  {
   "cell_type": "markdown",
   "metadata": {},
   "source": [
    "## Compute width"
   ]
  },
  {
   "cell_type": "code",
   "execution_count": 172,
   "metadata": {},
   "outputs": [
    {
     "name": "stdout",
     "output_type": "stream",
     "text": [
      "[0.54568227 0.83799216 0.        ]\n",
      "[[  9.53189407   0.           7.35067093]\n",
      " [ 11.25801307   0.           7.35067093]\n",
      " [  9.45721961   0.           7.35067093]\n",
      " [ 14.85963401   0.           7.35067093]\n",
      " [ 15.02972828   0.           7.35067093]\n",
      " [  9.45721961   0.          -1.28932907]\n",
      " [  9.45721961   0.           1.78031994]\n",
      " [  9.45721961   0.           1.89482042]\n",
      " [  9.45721961   0.           3.49067093]\n",
      " [  9.45721961   0.           5.96950883]\n",
      " [ 15.02972828   0.           1.78282406]\n",
      " [ 15.02972828   0.          -1.28932907]\n",
      " [ 11.25801307   0.          -1.28932907]\n",
      " [  9.53189407   0.          -1.28932907]\n",
      " [ 14.85963401   0.          -1.28932907]\n",
      " [ -1.77860849   0.           5.83067093]\n",
      " [ -1.11527652   0.           5.83067093]\n",
      " [ -4.863118     0.           5.83067093]\n",
      " [ -6.41583595   0.           5.83067093]\n",
      " [ -6.41583595   0.          -1.42932907]\n",
      " [ -6.41583595   0.          -1.31291569]\n",
      " [ -6.41583595   0.          -1.21932907]\n",
      " [ -6.41583595   0.           2.68883434]\n",
      " [ -6.41583595   0.           4.13274222]\n",
      " [ -6.41583595   0.           5.66578021]\n",
      " [ -1.11527652   0.           0.59046745]\n",
      " [ -1.11527652   0.          -1.42932907]\n",
      " [ -1.77860849   0.          -1.42932907]\n",
      " [ -4.863118     0.          -1.42932907]\n",
      " [-19.61175536   0.           6.55067093]\n",
      " [-19.20428165   0.           6.55067093]\n",
      " [-17.40510218   0.           6.55067093]\n",
      " [-16.91279925   0.           6.55067093]\n",
      " [-19.61175536   0.          -0.84932907]\n",
      " [-19.61175536   0.          -0.78718569]\n",
      " [-19.61175536   0.          -0.74932907]\n",
      " [-19.61175536   0.           3.78713782]\n",
      " [-16.91279925   0.           1.34501037]\n",
      " [-16.91279925   0.          -0.84932907]\n",
      " [-19.20428165   0.          -0.84932907]\n",
      " [-17.40510218   0.          -0.84932907]\n",
      " [-16.91279925   0.           7.15067093]\n",
      " [-16.50237836   0.           7.15067093]\n",
      " [-15.12580626   0.           7.15067093]\n",
      " [-14.38450469   0.           7.15067093]\n",
      " [-15.46067831   0.           7.15067093]\n",
      " [-16.91279925   0.          -0.92932907]\n",
      " [-16.91279925   0.          -0.87305166]\n",
      " [-16.91279925   0.           4.35633148]\n",
      " [-16.91279925   0.           6.97275151]\n",
      " [-14.38450469   0.           1.59656739]\n",
      " [-14.38450469   0.          -0.92932907]\n",
      " [-14.38450469   0.           6.65067093]\n",
      " [-14.38450469   0.           6.81728679]\n",
      " [-16.50237836   0.          -0.92932907]\n",
      " [-15.12580626   0.          -0.92932907]\n",
      " [-15.46067831   0.          -0.92932907]\n",
      " [  1.16896927   0.           3.49067093]\n",
      " [  3.12660081   0.           3.49067093]\n",
      " [  8.49233013   0.           3.49067093]\n",
      " [  1.16896927   0.          -1.41932907]\n",
      " [  1.16896927   0.           1.78525638]\n",
      " [  1.16896927   0.           1.91377031]\n",
      " [  9.45721961   0.          -1.37281325]\n",
      " [  9.45721961   0.          -1.41932907]\n",
      " [  9.45721961   0.          -1.17482859]\n",
      " [  9.45721961   0.           0.42102192]\n",
      " [  3.12660081   0.          -1.41932907]\n",
      " [  8.49233013   0.          -1.41932907]\n",
      " [-11.68230986   0.           6.35067093]\n",
      " [-11.22497596   0.           6.35067093]\n",
      " [-10.55101805   0.           6.35067093]\n",
      " [ -9.0310353    0.           6.35067093]\n",
      " [-11.68230986   0.          -1.10932907]\n",
      " [-11.68230986   0.          -1.06268914]\n",
      " [-11.68230986   0.          -1.03932907]\n",
      " [-11.68230986   0.           3.88451478]\n",
      " [-11.68230986   0.           3.9045377 ]\n",
      " [-11.68230986   0.           6.27391641]\n",
      " [ -9.0310353    0.           0.26541054]\n",
      " [ -9.0310353    0.          -1.10932907]\n",
      " [ -9.0310353    0.           1.77630647]\n",
      " [ -9.0310353    0.           1.98273701]\n",
      " [ -9.0310353    0.           5.93067093]\n",
      " [ -9.0310353    0.           6.11514078]\n",
      " [-11.22497596   0.          -1.10932907]\n",
      " [-10.55101805   0.          -1.10932907]\n",
      " [-20.0301228    0.           6.58067093]\n",
      " [-19.61175536   0.           6.58067093]\n",
      " [-21.63189025   0.           6.58067093]\n",
      " [-22.21087026   0.           6.58067093]\n",
      " [-19.61175536   0.           2.01420403]\n",
      " [-19.61175536   0.           6.56202791]\n",
      " [-22.21087026   0.          -0.74932907]\n",
      " [-22.21087026   0.          -0.71932664]\n",
      " [-22.21087026   0.          -0.70932907]\n",
      " [-22.21087026   0.           4.75861444]\n",
      " [-20.0301228    0.          -0.74932907]\n",
      " [-21.63189025   0.          -0.74932907]\n",
      " [-12.57277209   0.           6.65067093]\n",
      " [-11.68230986   0.           6.65067093]\n",
      " [-14.38450469   0.          -1.03932907]\n",
      " [-14.38450469   0.          -0.96598456]\n",
      " [-14.38450469   0.           4.12477446]\n",
      " [-11.68230986   0.          -1.01930615]\n",
      " [-11.68230986   0.           1.35007255]\n",
      " [-11.68230986   0.           1.42682707]\n",
      " [-11.68230986   0.           6.45078552]\n",
      " [-12.57277209   0.          -1.03932907]\n",
      " [ -8.264557     0.           5.93067093]\n",
      " [ -7.15599996   0.           5.93067093]\n",
      " [ -6.66954652   0.           5.93067093]\n",
      " [ -6.41583595   0.           5.93067093]\n",
      " [ -9.0310353    0.          -1.21932907]\n",
      " [ -9.0310353    0.          -1.1576426 ]\n",
      " [ -9.0310353    0.           2.83860484]\n",
      " [ -9.0310353    0.           4.21334445]\n",
      " [ -9.0310353    0.           5.72424038]\n",
      " [ -6.41583595   0.           0.22457881]\n",
      " [ -6.41583595   0.           1.7576168 ]\n",
      " [ -6.41583595   0.           1.92250751]\n",
      " [ -6.41583595   0.           5.87523599]\n",
      " [ -7.15599996   0.          -1.21932907]\n",
      " [ -8.264557     0.          -1.21932907]\n",
      " [ -6.66954652   0.          -1.21932907]]\n"
     ]
    }
   ],
   "source": [
    "for road_id in list(roads)[50:51]: # limited for testing\n",
    "    \n",
    "    # Create one mesh with nearby buildings\n",
    "    vertices = []\n",
    "    faces = []\n",
    "    num_triangles = 0\n",
    "    for building_id in roads[road_id][\"nearby_buildings\"]:\n",
    "        for i in range(int(len(buildings[building_id][\"surface\"].faces)/4)):\n",
    "            vertices.extend([buildings[building_id][\"surface\"].points[buildings[building_id][\"surface\"].faces[4*i+1]],\n",
    "                             buildings[building_id][\"surface\"].points[buildings[building_id][\"surface\"].faces[4*i+2]],\n",
    "                             buildings[building_id][\"surface\"].points[buildings[building_id][\"surface\"].faces[4*i+3]]])\n",
    "            faces.extend([3, 3*num_triangles, 3*num_triangles+1, 3*num_triangles+2])\n",
    "            num_triangles += 1\n",
    "    nearby_buildings = pv.PolyData(vertices, faces, num_triangles)\n",
    "    \n",
    "    # Create slices\n",
    "    interval = 5.0\n",
    "    points_along_line = []\n",
    "    line_slices = []\n",
    "    line_slices_2d = []\n",
    "    for i in range(int(len(roads[road_id][\"line\"].lines)/3)):\n",
    "        line_start = roads[road_id][\"line\"].points[roads[road_id][\"line\"].lines[3*i+1]]\n",
    "        line_end = roads[road_id][\"line\"].points[roads[road_id][\"line\"].lines[3*i+2]]\n",
    "        line_vector = line_end-line_start\n",
    "        line_vector[2] = 0.0 # make sure the slices are vertical\n",
    "        norm = np.linalg.norm(line_vector)\n",
    "        line_vector /= norm\n",
    "        start = norm-interval*math.floor(norm/interval)\n",
    "        to_2d_vector = np.array([[line_vector[1], 0.0, 0.0], \n",
    "                                 [line_vector[0], 0.0, 0.0], \n",
    "                                 [0.0, 0.0, 1.0]])\n",
    "        for j in np.arange(start, norm, interval):\n",
    "            points_along_line.append(line_vector*j+line_start)\n",
    "            line_slices.append(nearby_buildings.slice(line_vector, points_along_line[-1]))\n",
    "            points_2d = np.matmul(line_slices[-1].points-points_along_line[-1], to_2d_vector)\n",
    "            line_slices_2d.append(pv.PolyData(points_2d, lines=line_slices[-1].lines, n_lines=int(len(line_slices[-1].lines)/3)))\n",
    "    roads[road_id][\"slice_points\"] = points_along_line\n",
    "    roads[road_id][\"slices\"] = line_slices\n",
    "    roads[road_id][\"slices_2d\"] = line_slices_2d"
   ]
  },
  {
   "cell_type": "code",
   "execution_count": 142,
   "metadata": {},
   "outputs": [
    {
     "data": {
      "application/vnd.jupyter.widget-view+json": {
       "model_id": "29638364548948b78893793c358ec97e",
       "version_major": 2,
       "version_minor": 0
      },
      "text/plain": [
       "ViewInteractiveWidget(height=768, layout=Layout(height='auto', width='100%'), width=1024)"
      ]
     },
     "metadata": {},
     "output_type": "display_data"
    }
   ],
   "source": [
    "p = pv.Plotter()\n",
    "\n",
    "for road_id in list(roads)[50:51]: # nice example road\n",
    "    p.add_mesh(roads[road_id][\"surface\"], color=\"black\")\n",
    "    p.add_mesh(roads[road_id][\"line\"], color=\"yellow\", line_width=2)\n",
    "    if \"nearby_buildings\" in roads[road_id]:\n",
    "        for building_id in roads[road_id][\"nearby_buildings\"]:\n",
    "            p.add_mesh(buildings[building_id][\"surface\"], color=\"white\", opacity=0.5)\n",
    "    if \"slices\" in roads[road_id]:\n",
    "        for s in roads[road_id][\"slices\"]:\n",
    "            p.add_mesh(s, color=\"blue\", line_width=2)\n",
    "    points = pv.PolyData(roads[road_id][\"slice_points\"])\n",
    "    p.add_points(points, color=\"red\")\n",
    "p.show()"
   ]
  },
  {
   "cell_type": "code",
   "execution_count": 173,
   "metadata": {},
   "outputs": [
    {
     "data": {
      "application/vnd.jupyter.widget-view+json": {
       "model_id": "15807ff5770b4a4c98971779adb01c51",
       "version_major": 2,
       "version_minor": 0
      },
      "text/plain": [
       "ViewInteractiveWidget(height=768, layout=Layout(height='auto', width='100%'), width=1024)"
      ]
     },
     "metadata": {},
     "output_type": "display_data"
    }
   ],
   "source": [
    "p = pv.Plotter()\n",
    "\n",
    "for road_id in list(roads)[50:51]: # nice example road\n",
    "    if \"slices\" in roads[road_id]:\n",
    "        p.add_mesh(roads[road_id][\"slices_2d\"][0], color=\"blue\", line_width=2) # example slice\n",
    "    origin = pv.PolyData([[0.0, 0.0, 0.0]])\n",
    "    p.add_points(origin, color=\"red\")\n",
    "p.show()"
   ]
  }
 ],
 "metadata": {
  "kernelspec": {
   "display_name": "Python 3",
   "language": "python",
   "name": "python3"
  },
  "language_info": {
   "codemirror_mode": {
    "name": "ipython",
    "version": 3
   },
   "file_extension": ".py",
   "mimetype": "text/x-python",
   "name": "python",
   "nbconvert_exporter": "python",
   "pygments_lexer": "ipython3",
   "version": "3.8.6"
  }
 },
 "nbformat": 4,
 "nbformat_minor": 4
}
