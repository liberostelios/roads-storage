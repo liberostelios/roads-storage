{
 "cells": [
  {
   "cell_type": "code",
   "execution_count": 1,
   "id": "f57be71a",
   "metadata": {},
   "outputs": [],
   "source": [
    "import geopandas\n",
    "import json\n",
    "\n",
    "# Define the initial CityJSON file\n",
    "citymodel = \"montreal.json\"\n",
    "\n",
    "# Define the roads dataset\n",
    "roads_file = \"roads.gpkg\"\n",
    "\n",
    "output = \"montral_surfaces.json\""
   ]
  },
  {
   "cell_type": "markdown",
   "id": "9b54cbfe",
   "metadata": {},
   "source": [
    "# Open files\n",
    "\n",
    "Let's open the CityJSON file:"
   ]
  },
  {
   "cell_type": "code",
   "execution_count": 2,
   "id": "05f66698",
   "metadata": {
    "scrolled": true
   },
   "outputs": [
    {
     "data": {
      "text/plain": [
       "28018"
      ]
     },
     "execution_count": 2,
     "metadata": {},
     "output_type": "execute_result"
    }
   ],
   "source": [
    "with open(\"montreal.json\") as file:\n",
    "    cm = json.load(file)\n",
    "\n",
    "len(list(cm[\"CityObjects\"]))"
   ]
  },
  {
   "cell_type": "markdown",
   "id": "95fb3030",
   "metadata": {},
   "source": [
    "Let's open the initial roads file:"
   ]
  },
  {
   "cell_type": "code",
   "execution_count": 3,
   "id": "53b8f7f1",
   "metadata": {},
   "outputs": [
    {
     "data": {
      "text/plain": [
       "4387"
      ]
     },
     "execution_count": 3,
     "metadata": {},
     "output_type": "execute_result"
    }
   ],
   "source": [
    "roads = geopandas.read_file(roads_file)\n",
    "\n",
    "len(roads)"
   ]
  },
  {
   "cell_type": "code",
   "execution_count": 4,
   "id": "dea3ad4e",
   "metadata": {},
   "outputs": [],
   "source": [
    "main_roads = roads[roads[\"road_type\"] == \"Main road\"]\n",
    "secondary_roads = roads[roads[\"road_type\"] != \"Main road\"]"
   ]
  },
  {
   "cell_type": "code",
   "execution_count": 5,
   "id": "0dd0f93a",
   "metadata": {},
   "outputs": [],
   "source": [
    "bgt_common_boundaries = geopandas.overlay(secondary_roads, main_roads, how='intersection', keep_geom_type=False)"
   ]
  },
  {
   "cell_type": "code",
   "execution_count": 6,
   "id": "e5978dcb",
   "metadata": {},
   "outputs": [],
   "source": [
    "bgt_common_boundaries['length'] = bgt_common_boundaries['geometry'].length\n",
    "\n",
    "max_rows = bgt_common_boundaries[['ID_VOI_VOI_1', 'road_type_1', 'ID_VOI_VOI_2', 'geometry', 'length']].groupby('ID_VOI_VOI_1')['length'].idxmax()"
   ]
  },
  {
   "cell_type": "code",
   "execution_count": 7,
   "id": "c16ba4c8",
   "metadata": {},
   "outputs": [
    {
     "data": {
      "text/html": [
       "<div>\n",
       "<style scoped>\n",
       "    .dataframe tbody tr th:only-of-type {\n",
       "        vertical-align: middle;\n",
       "    }\n",
       "\n",
       "    .dataframe tbody tr th {\n",
       "        vertical-align: top;\n",
       "    }\n",
       "\n",
       "    .dataframe thead th {\n",
       "        text-align: right;\n",
       "    }\n",
       "</style>\n",
       "<table border=\"1\" class=\"dataframe\">\n",
       "  <thead>\n",
       "    <tr style=\"text-align: right;\">\n",
       "      <th></th>\n",
       "      <th>ID_VOI_VOI_1</th>\n",
       "      <th>road_type_1</th>\n",
       "      <th>ID_VOI_VOI_2</th>\n",
       "      <th>road_type_2</th>\n",
       "      <th>geometry</th>\n",
       "      <th>length</th>\n",
       "    </tr>\n",
       "  </thead>\n",
       "  <tbody>\n",
       "    <tr>\n",
       "      <th>320</th>\n",
       "      <td>100055922</td>\n",
       "      <td>Cycle lane</td>\n",
       "      <td>100056227</td>\n",
       "      <td>Main road</td>\n",
       "      <td>MULTILINESTRING ((298985.255 5042865.751, 2989...</td>\n",
       "      <td>18.702953</td>\n",
       "    </tr>\n",
       "    <tr>\n",
       "      <th>3022</th>\n",
       "      <td>100055934</td>\n",
       "      <td>Cycle lane</td>\n",
       "      <td>100056385</td>\n",
       "      <td>Main road</td>\n",
       "      <td>MULTILINESTRING ((299480.182 5042276.370, 2994...</td>\n",
       "      <td>11.378621</td>\n",
       "    </tr>\n",
       "    <tr>\n",
       "      <th>2028</th>\n",
       "      <td>100055945</td>\n",
       "      <td>Cycle lane</td>\n",
       "      <td>100056271</td>\n",
       "      <td>Main road</td>\n",
       "      <td>LINESTRING (299064.256 5043027.856, 299092.330...</td>\n",
       "      <td>33.605466</td>\n",
       "    </tr>\n",
       "    <tr>\n",
       "      <th>3001</th>\n",
       "      <td>100055947</td>\n",
       "      <td>Cycle lane</td>\n",
       "      <td>100056570</td>\n",
       "      <td>Main road</td>\n",
       "      <td>MULTILINESTRING ((299472.809 5042265.083, 2994...</td>\n",
       "      <td>11.669484</td>\n",
       "    </tr>\n",
       "    <tr>\n",
       "      <th>2078</th>\n",
       "      <td>100055987</td>\n",
       "      <td>Cycle lane</td>\n",
       "      <td>100056761</td>\n",
       "      <td>Main road</td>\n",
       "      <td>MULTILINESTRING ((299076.221 5042975.964, 2990...</td>\n",
       "      <td>14.551826</td>\n",
       "    </tr>\n",
       "    <tr>\n",
       "      <th>...</th>\n",
       "      <td>...</td>\n",
       "      <td>...</td>\n",
       "      <td>...</td>\n",
       "      <td>...</td>\n",
       "      <td>...</td>\n",
       "      <td>...</td>\n",
       "    </tr>\n",
       "    <tr>\n",
       "      <th>1798</th>\n",
       "      <td>250400692</td>\n",
       "      <td>Traffic island</td>\n",
       "      <td>200409701</td>\n",
       "      <td>Main road</td>\n",
       "      <td>MULTILINESTRING ((299705.378 5043907.954, 2997...</td>\n",
       "      <td>52.386939</td>\n",
       "    </tr>\n",
       "    <tr>\n",
       "      <th>1736</th>\n",
       "      <td>250400694</td>\n",
       "      <td>Traffic island</td>\n",
       "      <td>200409724</td>\n",
       "      <td>Main road</td>\n",
       "      <td>MULTILINESTRING ((299768.343 5044000.000, 2997...</td>\n",
       "      <td>53.306757</td>\n",
       "    </tr>\n",
       "    <tr>\n",
       "      <th>1735</th>\n",
       "      <td>250400695</td>\n",
       "      <td>Traffic island</td>\n",
       "      <td>200409724</td>\n",
       "      <td>Main road</td>\n",
       "      <td>MULTILINESTRING ((299738.555 5043955.793, 2997...</td>\n",
       "      <td>38.128102</td>\n",
       "    </tr>\n",
       "    <tr>\n",
       "      <th>325</th>\n",
       "      <td>250401165</td>\n",
       "      <td>Traffic island</td>\n",
       "      <td>200133739</td>\n",
       "      <td>Main road</td>\n",
       "      <td>MULTIPOLYGON (((298821.062 5042637.766, 298820...</td>\n",
       "      <td>1.697320</td>\n",
       "    </tr>\n",
       "    <tr>\n",
       "      <th>324</th>\n",
       "      <td>250401322</td>\n",
       "      <td>Traffic island</td>\n",
       "      <td>200133739</td>\n",
       "      <td>Main road</td>\n",
       "      <td>MULTIPOLYGON (((298845.083 5042674.253, 298845...</td>\n",
       "      <td>20.365183</td>\n",
       "    </tr>\n",
       "  </tbody>\n",
       "</table>\n",
       "<p>2912 rows × 6 columns</p>\n",
       "</div>"
      ],
      "text/plain": [
       "      ID_VOI_VOI_1     road_type_1  ID_VOI_VOI_2 road_type_2  \\\n",
       "320      100055922      Cycle lane     100056227   Main road   \n",
       "3022     100055934      Cycle lane     100056385   Main road   \n",
       "2028     100055945      Cycle lane     100056271   Main road   \n",
       "3001     100055947      Cycle lane     100056570   Main road   \n",
       "2078     100055987      Cycle lane     100056761   Main road   \n",
       "...            ...             ...           ...         ...   \n",
       "1798     250400692  Traffic island     200409701   Main road   \n",
       "1736     250400694  Traffic island     200409724   Main road   \n",
       "1735     250400695  Traffic island     200409724   Main road   \n",
       "325      250401165  Traffic island     200133739   Main road   \n",
       "324      250401322  Traffic island     200133739   Main road   \n",
       "\n",
       "                                               geometry     length  \n",
       "320   MULTILINESTRING ((298985.255 5042865.751, 2989...  18.702953  \n",
       "3022  MULTILINESTRING ((299480.182 5042276.370, 2994...  11.378621  \n",
       "2028  LINESTRING (299064.256 5043027.856, 299092.330...  33.605466  \n",
       "3001  MULTILINESTRING ((299472.809 5042265.083, 2994...  11.669484  \n",
       "2078  MULTILINESTRING ((299076.221 5042975.964, 2990...  14.551826  \n",
       "...                                                 ...        ...  \n",
       "1798  MULTILINESTRING ((299705.378 5043907.954, 2997...  52.386939  \n",
       "1736  MULTILINESTRING ((299768.343 5044000.000, 2997...  53.306757  \n",
       "1735  MULTILINESTRING ((299738.555 5043955.793, 2997...  38.128102  \n",
       "325   MULTIPOLYGON (((298821.062 5042637.766, 298820...   1.697320  \n",
       "324   MULTIPOLYGON (((298845.083 5042674.253, 298845...  20.365183  \n",
       "\n",
       "[2912 rows x 6 columns]"
      ]
     },
     "execution_count": 7,
     "metadata": {},
     "output_type": "execute_result"
    }
   ],
   "source": [
    "temp_roads = bgt_common_boundaries.loc[max_rows]\n",
    "temp_roads"
   ]
  },
  {
   "cell_type": "code",
   "execution_count": 8,
   "id": "665d28b1",
   "metadata": {},
   "outputs": [
    {
     "ename": "KeyError",
     "evalue": "''",
     "output_type": "error",
     "traceback": [
      "\u001b[0;31m---------------------------------------------------------------------------\u001b[0m",
      "\u001b[0;31mKeyError\u001b[0m                                  Traceback (most recent call last)",
      "\u001b[0;32m<ipython-input-8-68b497e7adbb>\u001b[0m in \u001b[0;36m<module>\u001b[0;34m\u001b[0m\n\u001b[1;32m     28\u001b[0m     \u001b[0mprint\u001b[0m\u001b[0;34m(\u001b[0m\u001b[0mparent\u001b[0m\u001b[0;34m)\u001b[0m\u001b[0;34m\u001b[0m\u001b[0;34m\u001b[0m\u001b[0m\n\u001b[1;32m     29\u001b[0m \u001b[0;34m\u001b[0m\u001b[0m\n\u001b[0;32m---> 30\u001b[0;31m \u001b[0mtemp_roads\u001b[0m\u001b[0;34m.\u001b[0m\u001b[0mapply\u001b[0m\u001b[0;34m(\u001b[0m\u001b[0mappend_parent\u001b[0m\u001b[0;34m,\u001b[0m \u001b[0maxis\u001b[0m\u001b[0;34m=\u001b[0m\u001b[0;36m1\u001b[0m\u001b[0;34m)\u001b[0m\u001b[0;34m\u001b[0m\u001b[0;34m\u001b[0m\u001b[0m\n\u001b[0m",
      "\u001b[0;32m~/Development/tudelft3d/roads-storage/venv/lib/python3.9/site-packages/geopandas/geodataframe.py\u001b[0m in \u001b[0;36mapply\u001b[0;34m(self, func, axis, raw, result_type, args, **kwargs)\u001b[0m\n\u001b[1;32m   1359\u001b[0m     \u001b[0;34m@\u001b[0m\u001b[0minherit_doc\u001b[0m\u001b[0;34m(\u001b[0m\u001b[0mpd\u001b[0m\u001b[0;34m.\u001b[0m\u001b[0mDataFrame\u001b[0m\u001b[0;34m)\u001b[0m\u001b[0;34m\u001b[0m\u001b[0;34m\u001b[0m\u001b[0m\n\u001b[1;32m   1360\u001b[0m     \u001b[0;32mdef\u001b[0m \u001b[0mapply\u001b[0m\u001b[0;34m(\u001b[0m\u001b[0mself\u001b[0m\u001b[0;34m,\u001b[0m \u001b[0mfunc\u001b[0m\u001b[0;34m,\u001b[0m \u001b[0maxis\u001b[0m\u001b[0;34m=\u001b[0m\u001b[0;36m0\u001b[0m\u001b[0;34m,\u001b[0m \u001b[0mraw\u001b[0m\u001b[0;34m=\u001b[0m\u001b[0;32mFalse\u001b[0m\u001b[0;34m,\u001b[0m \u001b[0mresult_type\u001b[0m\u001b[0;34m=\u001b[0m\u001b[0;32mNone\u001b[0m\u001b[0;34m,\u001b[0m \u001b[0margs\u001b[0m\u001b[0;34m=\u001b[0m\u001b[0;34m(\u001b[0m\u001b[0;34m)\u001b[0m\u001b[0;34m,\u001b[0m \u001b[0;34m**\u001b[0m\u001b[0mkwargs\u001b[0m\u001b[0;34m)\u001b[0m\u001b[0;34m:\u001b[0m\u001b[0;34m\u001b[0m\u001b[0;34m\u001b[0m\u001b[0m\n\u001b[0;32m-> 1361\u001b[0;31m         result = super().apply(\n\u001b[0m\u001b[1;32m   1362\u001b[0m             \u001b[0mfunc\u001b[0m\u001b[0;34m,\u001b[0m \u001b[0maxis\u001b[0m\u001b[0;34m=\u001b[0m\u001b[0maxis\u001b[0m\u001b[0;34m,\u001b[0m \u001b[0mraw\u001b[0m\u001b[0;34m=\u001b[0m\u001b[0mraw\u001b[0m\u001b[0;34m,\u001b[0m \u001b[0mresult_type\u001b[0m\u001b[0;34m=\u001b[0m\u001b[0mresult_type\u001b[0m\u001b[0;34m,\u001b[0m \u001b[0margs\u001b[0m\u001b[0;34m=\u001b[0m\u001b[0margs\u001b[0m\u001b[0;34m,\u001b[0m \u001b[0;34m**\u001b[0m\u001b[0mkwargs\u001b[0m\u001b[0;34m\u001b[0m\u001b[0;34m\u001b[0m\u001b[0m\n\u001b[1;32m   1363\u001b[0m         )\n",
      "\u001b[0;32m~/Development/tudelft3d/roads-storage/venv/lib/python3.9/site-packages/pandas/core/frame.py\u001b[0m in \u001b[0;36mapply\u001b[0;34m(self, func, axis, raw, result_type, args, **kwds)\u001b[0m\n\u001b[1;32m   7766\u001b[0m             \u001b[0mkwds\u001b[0m\u001b[0;34m=\u001b[0m\u001b[0mkwds\u001b[0m\u001b[0;34m,\u001b[0m\u001b[0;34m\u001b[0m\u001b[0;34m\u001b[0m\u001b[0m\n\u001b[1;32m   7767\u001b[0m         )\n\u001b[0;32m-> 7768\u001b[0;31m         \u001b[0;32mreturn\u001b[0m \u001b[0mop\u001b[0m\u001b[0;34m.\u001b[0m\u001b[0mget_result\u001b[0m\u001b[0;34m(\u001b[0m\u001b[0;34m)\u001b[0m\u001b[0;34m\u001b[0m\u001b[0;34m\u001b[0m\u001b[0m\n\u001b[0m\u001b[1;32m   7769\u001b[0m \u001b[0;34m\u001b[0m\u001b[0m\n\u001b[1;32m   7770\u001b[0m     \u001b[0;32mdef\u001b[0m \u001b[0mapplymap\u001b[0m\u001b[0;34m(\u001b[0m\u001b[0mself\u001b[0m\u001b[0;34m,\u001b[0m \u001b[0mfunc\u001b[0m\u001b[0;34m,\u001b[0m \u001b[0mna_action\u001b[0m\u001b[0;34m:\u001b[0m \u001b[0mOptional\u001b[0m\u001b[0;34m[\u001b[0m\u001b[0mstr\u001b[0m\u001b[0;34m]\u001b[0m \u001b[0;34m=\u001b[0m \u001b[0;32mNone\u001b[0m\u001b[0;34m)\u001b[0m \u001b[0;34m->\u001b[0m \u001b[0mDataFrame\u001b[0m\u001b[0;34m:\u001b[0m\u001b[0;34m\u001b[0m\u001b[0;34m\u001b[0m\u001b[0m\n",
      "\u001b[0;32m~/Development/tudelft3d/roads-storage/venv/lib/python3.9/site-packages/pandas/core/apply.py\u001b[0m in \u001b[0;36mget_result\u001b[0;34m(self)\u001b[0m\n\u001b[1;32m    183\u001b[0m             \u001b[0;32mreturn\u001b[0m \u001b[0mself\u001b[0m\u001b[0;34m.\u001b[0m\u001b[0mapply_raw\u001b[0m\u001b[0;34m(\u001b[0m\u001b[0;34m)\u001b[0m\u001b[0;34m\u001b[0m\u001b[0;34m\u001b[0m\u001b[0m\n\u001b[1;32m    184\u001b[0m \u001b[0;34m\u001b[0m\u001b[0m\n\u001b[0;32m--> 185\u001b[0;31m         \u001b[0;32mreturn\u001b[0m \u001b[0mself\u001b[0m\u001b[0;34m.\u001b[0m\u001b[0mapply_standard\u001b[0m\u001b[0;34m(\u001b[0m\u001b[0;34m)\u001b[0m\u001b[0;34m\u001b[0m\u001b[0;34m\u001b[0m\u001b[0m\n\u001b[0m\u001b[1;32m    186\u001b[0m \u001b[0;34m\u001b[0m\u001b[0m\n\u001b[1;32m    187\u001b[0m     \u001b[0;32mdef\u001b[0m \u001b[0mapply_empty_result\u001b[0m\u001b[0;34m(\u001b[0m\u001b[0mself\u001b[0m\u001b[0;34m)\u001b[0m\u001b[0;34m:\u001b[0m\u001b[0;34m\u001b[0m\u001b[0;34m\u001b[0m\u001b[0m\n",
      "\u001b[0;32m~/Development/tudelft3d/roads-storage/venv/lib/python3.9/site-packages/pandas/core/apply.py\u001b[0m in \u001b[0;36mapply_standard\u001b[0;34m(self)\u001b[0m\n\u001b[1;32m    274\u001b[0m \u001b[0;34m\u001b[0m\u001b[0m\n\u001b[1;32m    275\u001b[0m     \u001b[0;32mdef\u001b[0m \u001b[0mapply_standard\u001b[0m\u001b[0;34m(\u001b[0m\u001b[0mself\u001b[0m\u001b[0;34m)\u001b[0m\u001b[0;34m:\u001b[0m\u001b[0;34m\u001b[0m\u001b[0;34m\u001b[0m\u001b[0m\n\u001b[0;32m--> 276\u001b[0;31m         \u001b[0mresults\u001b[0m\u001b[0;34m,\u001b[0m \u001b[0mres_index\u001b[0m \u001b[0;34m=\u001b[0m \u001b[0mself\u001b[0m\u001b[0;34m.\u001b[0m\u001b[0mapply_series_generator\u001b[0m\u001b[0;34m(\u001b[0m\u001b[0;34m)\u001b[0m\u001b[0;34m\u001b[0m\u001b[0;34m\u001b[0m\u001b[0m\n\u001b[0m\u001b[1;32m    277\u001b[0m \u001b[0;34m\u001b[0m\u001b[0m\n\u001b[1;32m    278\u001b[0m         \u001b[0;31m# wrap results\u001b[0m\u001b[0;34m\u001b[0m\u001b[0;34m\u001b[0m\u001b[0;34m\u001b[0m\u001b[0m\n",
      "\u001b[0;32m~/Development/tudelft3d/roads-storage/venv/lib/python3.9/site-packages/pandas/core/apply.py\u001b[0m in \u001b[0;36mapply_series_generator\u001b[0;34m(self)\u001b[0m\n\u001b[1;32m    288\u001b[0m             \u001b[0;32mfor\u001b[0m \u001b[0mi\u001b[0m\u001b[0;34m,\u001b[0m \u001b[0mv\u001b[0m \u001b[0;32min\u001b[0m \u001b[0menumerate\u001b[0m\u001b[0;34m(\u001b[0m\u001b[0mseries_gen\u001b[0m\u001b[0;34m)\u001b[0m\u001b[0;34m:\u001b[0m\u001b[0;34m\u001b[0m\u001b[0;34m\u001b[0m\u001b[0m\n\u001b[1;32m    289\u001b[0m                 \u001b[0;31m# ignore SettingWithCopy here in case the user mutates\u001b[0m\u001b[0;34m\u001b[0m\u001b[0;34m\u001b[0m\u001b[0;34m\u001b[0m\u001b[0m\n\u001b[0;32m--> 290\u001b[0;31m                 \u001b[0mresults\u001b[0m\u001b[0;34m[\u001b[0m\u001b[0mi\u001b[0m\u001b[0;34m]\u001b[0m \u001b[0;34m=\u001b[0m \u001b[0mself\u001b[0m\u001b[0;34m.\u001b[0m\u001b[0mf\u001b[0m\u001b[0;34m(\u001b[0m\u001b[0mv\u001b[0m\u001b[0;34m)\u001b[0m\u001b[0;34m\u001b[0m\u001b[0;34m\u001b[0m\u001b[0m\n\u001b[0m\u001b[1;32m    291\u001b[0m                 \u001b[0;32mif\u001b[0m \u001b[0misinstance\u001b[0m\u001b[0;34m(\u001b[0m\u001b[0mresults\u001b[0m\u001b[0;34m[\u001b[0m\u001b[0mi\u001b[0m\u001b[0;34m]\u001b[0m\u001b[0;34m,\u001b[0m \u001b[0mABCSeries\u001b[0m\u001b[0;34m)\u001b[0m\u001b[0;34m:\u001b[0m\u001b[0;34m\u001b[0m\u001b[0;34m\u001b[0m\u001b[0m\n\u001b[1;32m    292\u001b[0m                     \u001b[0;31m# If we have a view on v, we need to make a copy because\u001b[0m\u001b[0;34m\u001b[0m\u001b[0;34m\u001b[0m\u001b[0;34m\u001b[0m\u001b[0m\n",
      "\u001b[0;32m<ipython-input-8-68b497e7adbb>\u001b[0m in \u001b[0;36mappend_parent\u001b[0;34m(f)\u001b[0m\n\u001b[1;32m     17\u001b[0m     \u001b[0mchild_geom\u001b[0m \u001b[0;34m=\u001b[0m \u001b[0mchild\u001b[0m\u001b[0;34m[\u001b[0m\u001b[0;34m\"geometry\"\u001b[0m\u001b[0;34m]\u001b[0m\u001b[0;34m[\u001b[0m\u001b[0;36m0\u001b[0m\u001b[0;34m]\u001b[0m\u001b[0;34m\u001b[0m\u001b[0;34m\u001b[0m\u001b[0m\n\u001b[1;32m     18\u001b[0m \u001b[0;34m\u001b[0m\u001b[0m\n\u001b[0;32m---> 19\u001b[0;31m     \u001b[0mparent_geom\u001b[0m\u001b[0;34m[\u001b[0m\u001b[0;34m\"semantics\"\u001b[0m\u001b[0;34m]\u001b[0m\u001b[0;34m[\u001b[0m\u001b[0;34m\"surfaces\"\u001b[0m\u001b[0;34m]\u001b[0m\u001b[0;34m.\u001b[0m\u001b[0mappend\u001b[0m\u001b[0;34m(\u001b[0m\u001b[0;34m{\u001b[0m\u001b[0;34m\"type\"\u001b[0m\u001b[0;34m:\u001b[0m \u001b[0mchild\u001b[0m\u001b[0;34m[\u001b[0m\u001b[0;34m\"\"\u001b[0m\u001b[0;34m]\u001b[0m\u001b[0;34m}\u001b[0m\u001b[0;34m)\u001b[0m\u001b[0;34m\u001b[0m\u001b[0;34m\u001b[0m\u001b[0m\n\u001b[0m\u001b[1;32m     20\u001b[0m \u001b[0;34m\u001b[0m\u001b[0m\n\u001b[1;32m     21\u001b[0m     \u001b[0;32mfor\u001b[0m \u001b[0mb\u001b[0m \u001b[0;32min\u001b[0m \u001b[0mchild_geom\u001b[0m\u001b[0;34m[\u001b[0m\u001b[0;34m\"boundaries\"\u001b[0m\u001b[0;34m]\u001b[0m\u001b[0;34m:\u001b[0m\u001b[0;34m\u001b[0m\u001b[0;34m\u001b[0m\u001b[0m\n",
      "\u001b[0;31mKeyError\u001b[0m: ''"
     ]
    }
   ],
   "source": [
    "def append_parent(f):\n",
    "    \"\"\"Appends the parent geometry with this one as a semantic surface\"\"\"\n",
    "    child_id = f[\"ID_VOI_VOI_1\"]\n",
    "    parent_id = f[\"ID_VOI_VOI_2\"]\n",
    "    \n",
    "    parent = cm[\"CityObjects\"][str(parent_id)]\n",
    "    parent_geom = parent[\"geometry\"][0]\n",
    "    \n",
    "    # Create a surface for the current surfaces\n",
    "    if not \"semantics\" in parent_geom:\n",
    "        parent_geom[\"semantics\"] = {\"surfaces\": [{\"type\": \"TrafficArea\"}], \"values\": [0 for v in parent_geom[\"boundaries\"]]}\n",
    "    \n",
    "    new_i = len(parent_geom[\"semantics\"][\"surfaces\"])\n",
    "    \n",
    "    # Append new surfaces from child\n",
    "    child = cm[\"CityObjects\"][str(child_id)]\n",
    "    child_geom = child[\"geometry\"][0]\n",
    "    \n",
    "    parent_geom[\"semantics\"][\"surfaces\"].append({\"type\": child[\"\"]})\n",
    "    \n",
    "    for b in child_geom[\"boundaries\"]:\n",
    "        parent_geom[\"boundaries\"].append(b)\n",
    "        parent_geom[\"semantics\"][\"values\"].append(new_i)\n",
    "    \n",
    "    # Delete child object\n",
    "    del cm[\"CityObjects\"][str(child_id)]\n",
    "    \n",
    "    print(parent)\n",
    "\n",
    "temp_roads.apply(append_parent, axis=1)"
   ]
  },
  {
   "cell_type": "code",
   "execution_count": null,
   "id": "c55c17b2",
   "metadata": {},
   "outputs": [],
   "source": [
    "with open(output, \"w\") as out:\n",
    "    json.dump(cm, out)"
   ]
  }
 ],
 "metadata": {
  "kernelspec": {
   "display_name": "Python 3",
   "language": "python",
   "name": "python3"
  },
  "language_info": {
   "codemirror_mode": {
    "name": "ipython",
    "version": 3
   },
   "file_extension": ".py",
   "mimetype": "text/x-python",
   "name": "python",
   "nbconvert_exporter": "python",
   "pygments_lexer": "ipython3",
   "version": "3.9.6"
  }
 },
 "nbformat": 4,
 "nbformat_minor": 5
}
