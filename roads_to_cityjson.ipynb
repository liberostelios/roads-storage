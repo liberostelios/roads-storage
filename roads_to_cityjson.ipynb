{
 "cells": [
  {
   "cell_type": "markdown",
   "id": "c633afbb",
   "metadata": {},
   "source": [
    "# Convert roads to CityJSON\n",
    "\n",
    "This is a notebook that loads an existing CityJSON file and appends it with centrelines from a geopackage.\n",
    "\n",
    "First we do some necessary imports and setup the filenames for input and output:"
   ]
  },
  {
   "cell_type": "code",
   "execution_count": 111,
   "id": "b50f7b4d",
   "metadata": {},
   "outputs": [],
   "source": [
    "import geopandas\n",
    "import json\n",
    "from tqdm.notebook import tqdm\n",
    "import shapely\n",
    "\n",
    "# Define the initial CityJSON file\n",
    "citymodel = \"montral_surfaces.json\"\n",
    "\n",
    "# Define the roads dataset\n",
    "roads_file = \"roads_3d.gpkg\"\n",
    "\n",
    "output = \"montreal_final.json\"\n",
    "output_network = \"montreal_with_network.json\"\n",
    "output_groups = \"montreal_in_groups.json\""
   ]
  },
  {
   "cell_type": "markdown",
   "id": "e6696d77",
   "metadata": {},
   "source": [
    "## Function definitions\n",
    "\n",
    "This is a bunch of functions about converting CityJSON geometries to shapely:"
   ]
  },
  {
   "cell_type": "code",
   "execution_count": 2,
   "id": "438ca20a",
   "metadata": {},
   "outputs": [],
   "source": [
    "from shapely.geometry import Polygon, MultiPolygon, MultiLineString\n",
    "\n",
    "def surface_to_polygon(surface, vertices):\n",
    "    \"\"\"Return a Polygon from a CityJSON surface.\"\"\"\n",
    "    \n",
    "    outer_ring = map(lambda i: vertices[i], surface[0])\n",
    "    \n",
    "    inner_rings = [map(lambda i: vertices[i], ring) for ring in surface[1:]]\n",
    "    \n",
    "    return Polygon(outer_ring, inner_rings)\n",
    "\n",
    "def geom_to_multipolygon(geom, vertices):\n",
    "    \"\"\"Return a MultiPolygon from a CityJSON geometry.\n",
    "    \n",
    "    Only MultiSurfaces supported.\"\"\"\n",
    "    \n",
    "    surfaces = []\n",
    "    \n",
    "    if geom[\"type\"] == \"MultiSurface\":\n",
    "        for surface in geom[\"boundaries\"]:\n",
    "            surfaces.append(surface_to_polygon(surface, vertices))\n",
    "    \n",
    "    return MultiPolygon(surfaces)"
   ]
  },
  {
   "cell_type": "markdown",
   "id": "efaf1e46",
   "metadata": {},
   "source": [
    "And this is the opposite (shapely to CityJSON geometry):"
   ]
  },
  {
   "cell_type": "code",
   "execution_count": 106,
   "id": "875d0d52",
   "metadata": {},
   "outputs": [],
   "source": [
    "def create_cityobject(feature, vertices, obj_type=None, lod=None, geom_col=\"geometry\"):\n",
    "    \"\"\"Create a city object from a GeoSeries\"\"\"\n",
    "    \n",
    "    if not \"type\" in feature and obj_type is None:\n",
    "        raise KeyError(\"City object type is not defined!\")\n",
    "\n",
    "    atts = dict(feature)\n",
    "    \n",
    "    if \"type\" in atts:\n",
    "        del atts[\"type\"]\n",
    "    del atts[\"geometry\"]\n",
    "    \n",
    "    obj = {\n",
    "        \"type\": feature[\"type\"] if obj_type is None else obj_type,\n",
    "        \"attributes\": atts,\n",
    "        \"geometry\": []\n",
    "    }\n",
    "    \n",
    "    geom, vertices = shape_to_geom(feature[geom_col], feature[\"lod\"] if lod is None else lod, vertices)\n",
    "    obj[\"geometry\"].append(geom)\n",
    "    \n",
    "    return obj, vertices\n",
    "\n",
    "def shape_to_geom(shape, lod, vertices):\n",
    "    \"\"\"Converts a shapely geometry to a CityJSON geometry\"\"\"\n",
    "    \n",
    "    if shape.geom_type == \"Point\":\n",
    "        geom_type = \"MultiPoint\"\n",
    "        b, v = point_to_geom(shape, vertices)\n",
    "    elif shape.geom_type == \"LineString\":\n",
    "        geom_type = \"MultiLineString\"\n",
    "        b, v = linestring_to_geom(shape, vertices)\n",
    "        b = [b]\n",
    "    elif shape.geom_type == \"MultiLineString\":\n",
    "        geom_type = \"MultiLineString\"\n",
    "        b = []\n",
    "        v = vertices\n",
    "        for line in shape.geoms:\n",
    "            b_temp, v_temp = linestring_to_geom(shape, vertices)\n",
    "            b.append(b_temp)\n",
    "            v.extend(v_temp)\n",
    "    \n",
    "    geom = {\n",
    "        \"type\": geom_type,\n",
    "        \"lod\": lod,\n",
    "        \"boundaries\": b\n",
    "    }\n",
    "    \n",
    "    return (geom, v)\n",
    "\n",
    "def point_to_geom(point, vertices):\n",
    "    \"\"\"Returns the boundary indices and new vertices of Point\"\"\"\n",
    "    \n",
    "    offset = len(vertices)\n",
    "    \n",
    "    indices = [offset]\n",
    "    verts = [point.coords[0]]\n",
    "    \n",
    "    return (indices, verts)\n",
    "\n",
    "def linestring_to_geom(line, vertices):\n",
    "    \"\"\"Returns the boundary indices and new vertices of a LineString\n",
    "    \n",
    "    This only returns the indices of one linestring, therefore it cannot be directly\n",
    "    assigned to a geometry's boundary values.\n",
    "    \"\"\"\n",
    "    \n",
    "    offset = len(vertices)\n",
    "    \n",
    "    indices = [offset + i for i in range(len(line.coords))]\n",
    "    verts = [list(c) for c in line.coords]\n",
    "    \n",
    "    return (indices, verts)\n",
    "\n",
    "def polygon_to_geom(polygon, vertices):\n",
    "    \"\"\"Returns the boundary indices and new vertices of a MultiSurface based on the given polygon\"\"\"\n",
    "    \n",
    "    offset = len(vertices)\n",
    "    \n",
    "    indices = [[offset + i for i in range(len(line.coords))]]\n",
    "    verts = [list(c) for c in line.coords]\n",
    "    \n",
    "    return (indices, verts)"
   ]
  },
  {
   "cell_type": "markdown",
   "id": "f5fd2e52",
   "metadata": {},
   "source": [
    "## Data loading\n",
    "\n",
    "Open the CityJSON file that contains the surfaces:"
   ]
  },
  {
   "cell_type": "code",
   "execution_count": 112,
   "id": "2f4d559b",
   "metadata": {},
   "outputs": [
    {
     "data": {
      "text/plain": [
       "25106"
      ]
     },
     "execution_count": 112,
     "metadata": {},
     "output_type": "execute_result"
    }
   ],
   "source": [
    "with open(citymodel) as file:\n",
    "    cm = json.load(file)\n",
    "\n",
    "len(list(cm[\"CityObjects\"]))"
   ]
  },
  {
   "cell_type": "markdown",
   "id": "fa3d1c5b",
   "metadata": {},
   "source": [
    "Load the centreslines from the geopackage:"
   ]
  },
  {
   "cell_type": "code",
   "execution_count": 8,
   "id": "8586eb84",
   "metadata": {},
   "outputs": [
    {
     "data": {
      "text/plain": [
       "761"
      ]
     },
     "execution_count": 8,
     "metadata": {},
     "output_type": "execute_result"
    }
   ],
   "source": [
    "roads = geopandas.read_file(roads_file)\n",
    "\n",
    "len(roads)"
   ]
  },
  {
   "cell_type": "markdown",
   "id": "7645f150",
   "metadata": {},
   "source": [
    "## CityJSON road storage method #1\n",
    "\n",
    "This code loops through the city objects and for each of them it finds the intersecting centrlines, cuts them based on the original geometry and, finally, stores the centrelines as a MultiLineString in the same object.\n",
    "\n",
    "This method is:\n",
    "- dictated by the input's areal representation geometry, and\n",
    "- only outputs geometry (i.e. MultiSurfaces and MultiLineStrings)\n",
    "\n",
    "Therefore, this method doesn't retain any network information (unless stored as attributes in semantic surfaces)."
   ]
  },
  {
   "cell_type": "code",
   "execution_count": 113,
   "id": "b45b45b8",
   "metadata": {},
   "outputs": [
    {
     "data": {
      "application/vnd.jupyter.widget-view+json": {
       "model_id": "b15cca297f1645119615d2600981c0f6",
       "version_major": 2,
       "version_minor": 0
      },
      "text/plain": [
       "  0%|          | 0/25106 [00:00<?, ?it/s]"
      ]
     },
     "metadata": {},
     "output_type": "display_data"
    }
   ],
   "source": [
    "from shapely.geometry import GeometryCollection\n",
    "\n",
    "lines_gpkg = {}\n",
    "\n",
    "# TODO: Speed this up with an index\n",
    "for objid, cobj in tqdm(cm[\"CityObjects\"].items()):\n",
    "    assert len(cobj[\"geometry\"]) == 1\n",
    "    \n",
    "    citygeom = cobj[\"geometry\"][0]\n",
    "    \n",
    "    geom = geom_to_multipolygon(citygeom, cm[\"vertices\"])\n",
    "    # We need to make the geometry valid\n",
    "    geom = geom.buffer(0)\n",
    "    \n",
    "    intersecting_roads = roads[roads[\"geometry\"].intersects(geom)]\n",
    "#     parts = intersecting_roads[\"geometry\"].intersection(geom)\n",
    "    \n",
    "    boundaries = []\n",
    "    semantics = {\n",
    "        \"values\": [],\n",
    "        \"surfaces\": []\n",
    "    }\n",
    "    \n",
    "    for idx, road in intersecting_roads.iterrows():\n",
    "        lines = road[\"geometry\"].intersection(geom)\n",
    "        \n",
    "        if objid in lines_gpkg:\n",
    "            lines_gpkg[objid][\"geometry\"] = GeometryCollection(list(lines_gpkg[objid][\"geometry\"].geoms) + [lines])\n",
    "        else:\n",
    "            lines_gpkg[objid] = {\n",
    "                \"geometry\": GeometryCollection([lines])\n",
    "            }\n",
    "        \n",
    "        if lines.type == \"LineString\":\n",
    "            lines = MultiLineString([lines])\n",
    "            \n",
    "        for line in lines.geoms:\n",
    "            b, v = linestring_to_geom(line, cm[\"vertices\"])\n",
    "\n",
    "            boundaries.append(b)\n",
    "            cm[\"vertices\"].extend(v)\n",
    "\n",
    "            semantics[\"values\"].append(len(semantics[\"surfaces\"]))\n",
    "\n",
    "            atts = dict(road)\n",
    "            del atts[\"geometry\"]\n",
    "\n",
    "            semantics[\"surfaces\"].append(atts)\n",
    "    \n",
    "    new_geometry = {\n",
    "        \"type\": \"MultiLineString\",\n",
    "        \"boundaries\": boundaries,\n",
    "        \"semantics\": semantics\n",
    "    }\n",
    "    \n",
    "    cobj[\"geometry\"].append(new_geometry)"
   ]
  },
  {
   "cell_type": "code",
   "execution_count": 131,
   "id": "ce3d4b08",
   "metadata": {},
   "outputs": [],
   "source": [
    "import pandas as pd\n",
    "from shapely.geometry import MultiLineString\n",
    "\n",
    "def fix_geometry(f):\n",
    "    geom = f[\"geometry\"]\n",
    "    \n",
    "    lines = []\n",
    "    \n",
    "    for g in geom.geoms:\n",
    "        if g.geom_type == \"LineString\":\n",
    "            lines.append(g)\n",
    "        elif g.geom_type == \"MultiLineString\":\n",
    "            for l in g.geoms:\n",
    "                lines.append(l)\n",
    "    \n",
    "    result = MultiLineString(lines)\n",
    "    \n",
    "    return result\n",
    "\n",
    "df = geopandas.GeoDataFrame(pd.DataFrame.from_dict(lines_gpkg, orient=\"index\"), geometry=\"geometry\")\n",
    "df[\"geometry\"] = df.apply(fix_geometry, axis=1)\n",
    "\n",
    "df.to_file(\"roads_intersected.gpkg\", driver=\"GPKG\")"
   ]
  },
  {
   "cell_type": "markdown",
   "id": "fb61b038",
   "metadata": {},
   "source": [
    "And here we store the output:"
   ]
  },
  {
   "cell_type": "code",
   "execution_count": 132,
   "id": "9ff3d773",
   "metadata": {},
   "outputs": [],
   "source": [
    "with open(output, \"w\") as out:\n",
    "    json.dump(cm, out)"
   ]
  },
  {
   "cell_type": "markdown",
   "id": "18b47c92",
   "metadata": {},
   "source": [
    "## CityJSON road storage method #2\n",
    "\n",
    "This method introduces a network extension for CityJSON to store the linear network of roads. This is done through a `\"+network\"` attribute that holds the relationship information between nodes and edges of the network.\n",
    "\n",
    "First, we split any multi-parts to single parts:"
   ]
  },
  {
   "cell_type": "code",
   "execution_count": 11,
   "id": "20816c64",
   "metadata": {},
   "outputs": [],
   "source": [
    "segments = roads.explode()"
   ]
  },
  {
   "cell_type": "markdown",
   "id": "00cf7952",
   "metadata": {},
   "source": [
    "Then we make temporary u and v nodes using the lexigographic coordinates of the nodes:"
   ]
  },
  {
   "cell_type": "code",
   "execution_count": 12,
   "id": "27e284a2",
   "metadata": {
    "scrolled": false
   },
   "outputs": [],
   "source": [
    "import shapely\n",
    "import pandas as pd\n",
    "\n",
    "def fix_precision(geom, decimals=3):\n",
    "    return shapely.wkt.loads(shapely.wkt.dumps(geom, rounding_precision=decimals))\n",
    "\n",
    "def get_lexicographic_boundaries(f, geom_col=\"geometry\"):\n",
    "    round_geom = fix_precision(f[geom_col])\n",
    "    \n",
    "    try:\n",
    "        return [str(round_geom.coords[0]), str(round_geom.coords[-1])]\n",
    "    except Exception as e:\n",
    "        print(f)\n",
    "        raise e\n",
    "\n",
    "tmp = segments.apply(get_lexicographic_boundaries, axis=1)\n",
    "segments['u_node'] = [a[0] for a in tmp]\n",
    "segments['v_node'] = [a[1] for a in tmp]"
   ]
  },
  {
   "cell_type": "markdown",
   "id": "cca8da0b",
   "metadata": {},
   "source": [
    "We assign an id to every unique set of coordinates:"
   ]
  },
  {
   "cell_type": "code",
   "execution_count": 13,
   "id": "32783a37",
   "metadata": {},
   "outputs": [
    {
     "data": {
      "text/plain": [
       "513"
      ]
     },
     "execution_count": 13,
     "metadata": {},
     "output_type": "execute_result"
    }
   ],
   "source": [
    "nodes = set(list(pd.unique(segments['u_node'])) + list(pd.unique(segments['v_node'])))\n",
    "\n",
    "node_map = {}\n",
    "for uuid, n in enumerate(nodes):\n",
    "    node_map[n] = uuid\n",
    "\n",
    "len(node_map)"
   ]
  },
  {
   "cell_type": "markdown",
   "id": "bfd6c19f",
   "metadata": {},
   "source": [
    "Finally, setting up the appropriate ids to the u and v nodes of every segment in the dataset:"
   ]
  },
  {
   "cell_type": "code",
   "execution_count": 14,
   "id": "b8921520",
   "metadata": {},
   "outputs": [],
   "source": [
    "def get_node_uuid(f):\n",
    "    return [node_map[f['u_node']], node_map[f['v_node']]]\n",
    "\n",
    "tmp = segments.apply(get_node_uuid, axis=1)\n",
    "segments['u'] = [a[0] for a in tmp]\n",
    "segments['v'] = [a[1] for a in tmp]"
   ]
  },
  {
   "cell_type": "markdown",
   "id": "82eab853",
   "metadata": {},
   "source": [
    "### Save the bloody thing again\n",
    "\n",
    "First we load the citymodel again"
   ]
  },
  {
   "cell_type": "code",
   "execution_count": 15,
   "id": "3740df3f",
   "metadata": {},
   "outputs": [
    {
     "data": {
      "text/plain": [
       "25106"
      ]
     },
     "execution_count": 15,
     "metadata": {},
     "output_type": "execute_result"
    }
   ],
   "source": [
    "with open(citymodel) as file:\n",
    "    cm = json.load(file)\n",
    "\n",
    "len(list(cm[\"CityObjects\"]))"
   ]
  },
  {
   "cell_type": "code",
   "execution_count": 16,
   "id": "08488be7",
   "metadata": {},
   "outputs": [],
   "source": [
    "cm[\"+network\"] = {\n",
    "    \"nodes\": {},\n",
    "    \"edges\": {}\n",
    "}"
   ]
  },
  {
   "cell_type": "code",
   "execution_count": 17,
   "id": "0f0ab578",
   "metadata": {},
   "outputs": [],
   "source": [
    "cm[\"+network\"][\"nodes\"] = {i: {\"geometry\": str(shapely.geometry.Point(eval(c)))} for c, i in node_map.items()}"
   ]
  },
  {
   "cell_type": "code",
   "execution_count": 18,
   "id": "60b5a436",
   "metadata": {},
   "outputs": [],
   "source": [
    "segments[\"geom_str\"] = segments.apply(lambda f: str(f[\"geometry\"]), axis=1)\n",
    "cm[\"+network\"][\"edges\"] = segments.set_index(\"ID_TRC\")[[\"u\", \"v\", \"geom_str\"]].to_dict(orient=\"index\")"
   ]
  },
  {
   "cell_type": "code",
   "execution_count": 20,
   "id": "2cd992f3",
   "metadata": {},
   "outputs": [
    {
     "data": {
      "application/vnd.jupyter.widget-view+json": {
       "model_id": "cd9d3872f6bb4c9d967bfdda024910fb",
       "version_major": 2,
       "version_minor": 0
      },
      "text/plain": [
       "  0%|          | 0/25106 [00:00<?, ?it/s]"
      ]
     },
     "metadata": {},
     "output_type": "display_data"
    }
   ],
   "source": [
    "for objid, cobj in tqdm(cm[\"CityObjects\"].items()):\n",
    "    assert len(cobj[\"geometry\"]) == 1\n",
    "    \n",
    "    citygeom = cobj[\"geometry\"][0]\n",
    "    \n",
    "    geom = geom_to_multipolygon(citygeom, cm[\"vertices\"])\n",
    "    # We need to make the geometry valid\n",
    "    geom = geom.buffer(0)\n",
    "    \n",
    "    intersecting_roads = roads[roads[\"geometry\"].intersects(geom)]\n",
    "    \n",
    "    cobj[\"+edges\"] = list(intersecting_roads[\"ID_TRC\"])"
   ]
  },
  {
   "cell_type": "code",
   "execution_count": 90,
   "id": "d5d75d66",
   "metadata": {},
   "outputs": [
    {
     "data": {
      "text/plain": [
       "'{fff92a18-6fb6-466c-9004-541b938a4020}'"
      ]
     },
     "execution_count": 90,
     "metadata": {},
     "output_type": "execute_result"
    }
   ],
   "source": [
    "objid"
   ]
  },
  {
   "cell_type": "code",
   "execution_count": 21,
   "id": "c2e8e910",
   "metadata": {},
   "outputs": [],
   "source": [
    "with open(output_network, \"w\") as out:\n",
    "    json.dump(cm, out)"
   ]
  },
  {
   "cell_type": "markdown",
   "id": "a983b808",
   "metadata": {},
   "source": [
    "## CityJSON roads storage method #3\n",
    "\n",
    "With this method, we store nodes and edges of the network as CityObjects. Their attributes are enough to allow for someone to reconstruct the topology and they are easy to visualise. In order to make sense of any relations between the objects, we use `CityObjectGroup` objects."
   ]
  },
  {
   "cell_type": "code",
   "execution_count": 66,
   "id": "317a5083",
   "metadata": {},
   "outputs": [],
   "source": [
    "geonodes = geopandas.GeoDataFrame([[f\"Node_{i}\", \"node\", shapely.geometry.Point(eval(c))] for c, i in node_map.items()], columns=[\"id\", \"network_type\", \"geometry\"], geometry=\"geometry\")\n",
    "\n",
    "geonodes = geonodes.set_index(\"id\")\n",
    "\n",
    "for co_id in geonodes.index:\n",
    "    obj, new_verts = create_cityobject(geonodes.loc[co_id], cm[\"vertices\"], obj_type=\"Road\", lod=\"0.1\")\n",
    "    \n",
    "    cm[\"CityObjects\"][co_id] = obj\n",
    "    cm[\"vertices\"].extend(new_verts)"
   ]
  },
  {
   "cell_type": "code",
   "execution_count": 67,
   "id": "57e35668",
   "metadata": {},
   "outputs": [],
   "source": [
    "edges = segments.drop([\"u_node\", \"v_node\", \"geom_str\"], axis=1)\n",
    "\n",
    "edges = edges.set_index(\"ID_TRC\")\n",
    "\n",
    "for co_id in edges.index:\n",
    "    obj, new_verts = create_cityobject(edges.loc[co_id], cm[\"vertices\"], obj_type=\"Road\", lod=\"0.1\")\n",
    "    \n",
    "    cm[\"CityObjects\"][str(co_id)] = obj\n",
    "    cm[\"vertices\"].extend(new_verts)"
   ]
  },
  {
   "cell_type": "code",
   "execution_count": 97,
   "id": "d845a1fb",
   "metadata": {},
   "outputs": [],
   "source": [
    "for nom_voie, features in edges.groupby(\"NOM_VOIE\"):\n",
    "    group_id = f\"Street_{nom_voie}\"\n",
    "    cm[\"CityObjects\"][group_id] = {\n",
    "        \"type\": \"CityObjectGroup\",\n",
    "        \"members\": [str(idx) for idx in features.index],\n",
    "        \"attributes\": {\n",
    "            \"nom_voie\": nom_voie\n",
    "        }\n",
    "    }"
   ]
  },
  {
   "cell_type": "code",
   "execution_count": 102,
   "id": "f7321ba9",
   "metadata": {},
   "outputs": [],
   "source": [
    "cm[\"CityObjects\"][\"Street Nodes\"] = {\n",
    "    \"type\": \"CityObjectGroup\",\n",
    "    \"members\": geonodes.index\n",
    "}\n",
    "\n",
    "cm[\"CityObjects\"][\"Street Edges\"] = {\n",
    "    \"type\": \"CityObjectGroup\",\n",
    "    \"members\": [str(idx) for idx in edges.index]\n",
    "}"
   ]
  },
  {
   "cell_type": "code",
   "execution_count": 98,
   "id": "96658c38",
   "metadata": {},
   "outputs": [],
   "source": [
    "import numpy as np\n",
    "\n",
    "class NpEncoder(json.JSONEncoder):\n",
    "    def default(self, obj):\n",
    "        if isinstance(obj, np.integer):\n",
    "            return int(obj)\n",
    "        if isinstance(obj, np.floating):\n",
    "            return float(obj)\n",
    "        if isinstance(obj, np.ndarray):\n",
    "            return obj.tolist()\n",
    "        return super(NpEncoder, self).default(obj)\n",
    "\n",
    "with open(output_groups, \"w\") as out:\n",
    "    json.dump(cm, out, cls=NpEncoder)"
   ]
  },
  {
   "cell_type": "markdown",
   "id": "a82001c5",
   "metadata": {},
   "source": [
    "- Finish storage as it is now.\n",
    "- Make storage work with gpkg as input.\n",
    "- Group things together"
   ]
  }
 ],
 "metadata": {
  "kernelspec": {
   "display_name": "Python 3",
   "language": "python",
   "name": "python3"
  },
  "language_info": {
   "codemirror_mode": {
    "name": "ipython",
    "version": 3
   },
   "file_extension": ".py",
   "mimetype": "text/x-python",
   "name": "python",
   "nbconvert_exporter": "python",
   "pygments_lexer": "ipython3",
   "version": "3.9.6"
  }
 },
 "nbformat": 4,
 "nbformat_minor": 5
}
