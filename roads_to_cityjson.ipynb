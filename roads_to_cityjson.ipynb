{
 "cells": [
  {
   "cell_type": "code",
   "execution_count": 150,
   "id": "b50f7b4d",
   "metadata": {},
   "outputs": [],
   "source": [
    "import geopandas\n",
    "import json\n",
    "\n",
    "# Define the initial CityJSON file\n",
    "citymodel = \"montreal.json\"\n",
    "\n",
    "# Define the roads dataset\n",
    "roads_file = \"roads_3d.gpkg\"\n",
    "\n",
    "output = \"montreal_final.json\""
   ]
  },
  {
   "cell_type": "code",
   "execution_count": 148,
   "id": "2f4d559b",
   "metadata": {},
   "outputs": [
    {
     "data": {
      "text/plain": [
       "28018"
      ]
     },
     "execution_count": 148,
     "metadata": {},
     "output_type": "execute_result"
    }
   ],
   "source": [
    "with open(citymodel) as file:\n",
    "    cm = json.load(file)\n",
    "\n",
    "len(list(cm[\"CityObjects\"]))"
   ]
  },
  {
   "cell_type": "code",
   "execution_count": 26,
   "id": "8586eb84",
   "metadata": {},
   "outputs": [
    {
     "data": {
      "text/plain": [
       "761"
      ]
     },
     "execution_count": 26,
     "metadata": {},
     "output_type": "execute_result"
    }
   ],
   "source": [
    "roads = geopandas.read_file(roads_file)\n",
    "\n",
    "len(roads)"
   ]
  },
  {
   "cell_type": "code",
   "execution_count": 51,
   "id": "438ca20a",
   "metadata": {},
   "outputs": [],
   "source": [
    "from shapely.geometry import Polygon, MultiPolygon\n",
    "\n",
    "def surface_to_polygon(surface, vertices):\n",
    "    \"\"\"Return a Polygon from a CityJSON surface.\"\"\"\n",
    "    \n",
    "    outer_ring = map(lambda i: vertices[i], surface[0])\n",
    "    \n",
    "    inner_rings = [map(lambda i: vertices[i], ring) for ring in surface[1:]]\n",
    "    \n",
    "    return Polygon(outer_ring, inner_rings)\n",
    "\n",
    "def geom_to_multipolygon(geom, vertices):\n",
    "    \"\"\"Return a MultiPolygon from a CityJSON geometry.\n",
    "    \n",
    "    Only MultiSurfaces supported.\"\"\"\n",
    "    \n",
    "    surfaces = []\n",
    "    \n",
    "    if geom[\"type\"] == \"MultiSurface\":\n",
    "        for surface in geom[\"boundaries\"]:\n",
    "            surfaces.append(surface_to_polygon(surface, vertices))\n",
    "    \n",
    "    return MultiPolygon(surfaces)"
   ]
  },
  {
   "cell_type": "code",
   "execution_count": 52,
   "id": "15251a7e",
   "metadata": {},
   "outputs": [],
   "source": [
    "cobj = cm[\"CityObjects\"][next(iter(cm[\"CityObjects\"]))]\n",
    "\n",
    "geom = cobj[\"geometry\"][0]\n",
    "\n",
    "g = geom_to_multipolygon(geom, cm[\"vertices\"])"
   ]
  },
  {
   "cell_type": "code",
   "execution_count": 71,
   "id": "9da5f682",
   "metadata": {},
   "outputs": [],
   "source": [
    "intersecting_roads = roads[roads[\"geometry\"].intersects(g)]"
   ]
  },
  {
   "cell_type": "code",
   "execution_count": 134,
   "id": "df26c41e",
   "metadata": {},
   "outputs": [
    {
     "name": "stdout",
     "output_type": "stream",
     "text": [
      "ID_TRC: 1380879\n",
      "DEB_GCH: 0\n",
      "FIN_GCH: 0\n",
      "ARR_GCH: Le Plateau-Mont-Royal\n",
      "SENS_CIR: 0.0\n",
      "CLASSE: 6.0\n",
      "LIE_VOIE: None\n",
      "TYP_VOIE: rue\n",
      "DIR_VOIE: Est\n",
      "NOM_VOIE: Sherbrooke\n",
      "DEB_DRT: 0\n",
      "FIN_DRT: 0\n",
      "ARR_DRT: Ville-Marie\n",
      "LIM_GCH: Montréal\n",
      "LIM_DRT: Montréal\n",
      "geometry: MULTILINESTRING Z ((299564.520287114 5042000 40.9263916015625, 299574.109 5042030.069 40.59217071533203))\n",
      "ID_TRC: 4014907\n",
      "DEB_GCH: 0\n",
      "FIN_GCH: 0\n",
      "ARR_GCH: Le Plateau-Mont-Royal\n",
      "SENS_CIR: -1.0\n",
      "CLASSE: 6.0\n",
      "LIE_VOIE: None\n",
      "TYP_VOIE: rue\n",
      "DIR_VOIE: None\n",
      "NOM_VOIE: Berri\n",
      "DEB_DRT: 0\n",
      "FIN_DRT: 0\n",
      "ARR_DRT: Le Plateau-Mont-Royal\n",
      "LIM_GCH: Montréal\n",
      "LIM_DRT: Montréal\n",
      "geometry: MULTILINESTRING Z ((299566.86224 5042007.125525 40.88735961914062, 299543.97 5042021.473 38.75387954711914))\n",
      "ID_TRC: 4014911\n",
      "DEB_GCH: 0\n",
      "FIN_GCH: 0\n",
      "ARR_GCH: Ville-Marie\n",
      "SENS_CIR: -1.0\n",
      "CLASSE: 6.0\n",
      "LIE_VOIE: None\n",
      "TYP_VOIE: rue\n",
      "DIR_VOIE: None\n",
      "NOM_VOIE: Berri\n",
      "DEB_DRT: 0\n",
      "FIN_DRT: 0\n",
      "ARR_DRT: Ville-Marie\n",
      "LIM_GCH: Montréal\n",
      "LIM_DRT: Montréal\n",
      "geometry: MULTILINESTRING Z ((299578.3355426121 5042000 35.04259872436523, 299566.86224 5042007.125525 40.88735961914062))\n"
     ]
    }
   ],
   "source": [
    "from shapely.geometry import MultiLineString\n",
    "\n",
    "valid_g = g.buffer(0)\n",
    "\n",
    "parts = intersecting_roads[\"geometry\"].intersection(valid_g)\n",
    "\n",
    "for idx, road in intersecting_roads.iterrows():\n",
    "    for att in road\n",
    "    print(road[\"geometry\"])\n",
    "    print(road[\"geometry\"].intersection(valid_g))"
   ]
  },
  {
   "cell_type": "code",
   "execution_count": 109,
   "id": "875d0d52",
   "metadata": {},
   "outputs": [],
   "source": [
    "def linestring_to_geom(line, vertices):\n",
    "    \"\"\"Returns the boundary indices and new vertices\"\"\"\n",
    "    \n",
    "    offset = len(vertices)\n",
    "    \n",
    "    indices = [offset + i for i in range(len(line.coords))]\n",
    "    verts = [list(c) for c in line.coords]\n",
    "    \n",
    "    return (indices, verts)"
   ]
  },
  {
   "cell_type": "code",
   "execution_count": 149,
   "id": "b45b45b8",
   "metadata": {},
   "outputs": [],
   "source": [
    "for objid, cobj in cm[\"CityObjects\"].items():\n",
    "    assert len(cobj[\"geometry\"]) == 1\n",
    "    \n",
    "    citygeom = cobj[\"geometry\"][0]\n",
    "    \n",
    "    geom = geom_to_multipolygon(citygeom, cm[\"vertices\"])\n",
    "    # We need to make the geometry valid\n",
    "    geom = geom.buffer(0)\n",
    "    \n",
    "    intersecting_roads = roads[roads[\"geometry\"].intersects(geom)]\n",
    "    parts = intersecting_roads[\"geometry\"].intersection(geom)\n",
    "    \n",
    "    boundaries = []\n",
    "    semantics = {\n",
    "        \"values\": [],\n",
    "        \"surfaces\": []\n",
    "    }\n",
    "    \n",
    "    for idx, road in intersecting_roads.iterrows():\n",
    "        lines = road[\"geometry\"].intersection(geom)\n",
    "        if lines.type == \"LineString\":\n",
    "            lines = MultiLineString([lines])\n",
    "            \n",
    "        for line in lines.geoms:\n",
    "            b, v = linestring_to_geom(line, cm[\"vertices\"])\n",
    "\n",
    "            boundaries.append(b)\n",
    "            cm[\"vertices\"].extend(v)\n",
    "\n",
    "            semantics[\"values\"].append(len(semantics[\"surfaces\"]))\n",
    "\n",
    "            atts = dict(road)\n",
    "            del atts[\"geometry\"]\n",
    "\n",
    "            semantics[\"surfaces\"].append(atts)\n",
    "    \n",
    "    new_geometry = {\n",
    "        \"type\": \"MultiLineString\",\n",
    "        \"boundaries\": boundaries,\n",
    "        \"semantics\": semantics\n",
    "    }\n",
    "    \n",
    "    cobj[\"geometry\"].append(new_geometry)"
   ]
  },
  {
   "cell_type": "code",
   "execution_count": 151,
   "id": "9ff3d773",
   "metadata": {},
   "outputs": [],
   "source": [
    "with open(output, \"w\") as out:\n",
    "    json.dump(cm, out)"
   ]
  }
 ],
 "metadata": {
  "kernelspec": {
   "display_name": "Python 3",
   "language": "python",
   "name": "python3"
  },
  "language_info": {
   "codemirror_mode": {
    "name": "ipython",
    "version": 3
   },
   "file_extension": ".py",
   "mimetype": "text/x-python",
   "name": "python",
   "nbconvert_exporter": "python",
   "pygments_lexer": "ipython3",
   "version": "3.9.4"
  }
 },
 "nbformat": 4,
 "nbformat_minor": 5
}
