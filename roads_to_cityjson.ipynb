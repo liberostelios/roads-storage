{
 "cells": [
  {
   "cell_type": "markdown",
   "id": "c633afbb",
   "metadata": {},
   "source": [
    "# Convert roads to CityJSON\n",
    "\n",
    "This is a notebook that loads an existing CityJSON file and appends it with centrelines from a geopackage.\n",
    "\n",
    "First we do some necessary imports and setup the filenames for input and output:"
   ]
  },
  {
   "cell_type": "code",
   "execution_count": 70,
   "id": "b50f7b4d",
   "metadata": {},
   "outputs": [],
   "source": [
    "import geopandas\n",
    "import json\n",
    "from tqdm.notebook import tqdm\n",
    "import shapely\n",
    "\n",
    "# Define the initial CityJSON file\n",
    "citymodel = \"montreal.json\"\n",
    "\n",
    "# Define the roads dataset\n",
    "roads_file = \"roads_3d.gpkg\"\n",
    "\n",
    "output = \"montreal_final.json\"\n",
    "output_network = \"montreal_with_network.json\"\n",
    "output_groups = \"montreal_in_groups.json\""
   ]
  },
  {
   "cell_type": "markdown",
   "id": "e6696d77",
   "metadata": {},
   "source": [
    "## Function definitions\n",
    "\n",
    "This is a bunch of functions about converting CityJSON geometries to shapely:"
   ]
  },
  {
   "cell_type": "code",
   "execution_count": 2,
   "id": "438ca20a",
   "metadata": {},
   "outputs": [],
   "source": [
    "from shapely.geometry import Polygon, MultiPolygon, MultiLineString\n",
    "\n",
    "def surface_to_polygon(surface, vertices):\n",
    "    \"\"\"Return a Polygon from a CityJSON surface.\"\"\"\n",
    "    \n",
    "    outer_ring = map(lambda i: vertices[i], surface[0])\n",
    "    \n",
    "    inner_rings = [map(lambda i: vertices[i], ring) for ring in surface[1:]]\n",
    "    \n",
    "    return Polygon(outer_ring, inner_rings)\n",
    "\n",
    "def geom_to_multipolygon(geom, vertices):\n",
    "    \"\"\"Return a MultiPolygon from a CityJSON geometry.\n",
    "    \n",
    "    Only MultiSurfaces supported.\"\"\"\n",
    "    \n",
    "    surfaces = []\n",
    "    \n",
    "    if geom[\"type\"] == \"MultiSurface\":\n",
    "        for surface in geom[\"boundaries\"]:\n",
    "            surfaces.append(surface_to_polygon(surface, vertices))\n",
    "    \n",
    "    return MultiPolygon(surfaces)"
   ]
  },
  {
   "cell_type": "markdown",
   "id": "efaf1e46",
   "metadata": {},
   "source": [
    "And this is the opposite (shapely to CityJSON geometry):"
   ]
  },
  {
   "cell_type": "code",
   "execution_count": 106,
   "id": "875d0d52",
   "metadata": {},
   "outputs": [],
   "source": [
    "def create_cityobject(feature, vertices, obj_type=None, lod=None, geom_col=\"geometry\"):\n",
    "    \"\"\"Create a city object from a GeoSeries\"\"\"\n",
    "    \n",
    "    if not \"type\" in feature and obj_type is None:\n",
    "        raise KeyError(\"City object type is not defined!\")\n",
    "\n",
    "    atts = dict(feature)\n",
    "    \n",
    "    if \"type\" in atts:\n",
    "        del atts[\"type\"]\n",
    "    del atts[\"geometry\"]\n",
    "    \n",
    "    obj = {\n",
    "        \"type\": feature[\"type\"] if obj_type is None else obj_type,\n",
    "        \"attributes\": atts,\n",
    "        \"geometry\": []\n",
    "    }\n",
    "    \n",
    "    geom, vertices = shape_to_geom(feature[geom_col], feature[\"lod\"] if lod is None else lod, vertices)\n",
    "    obj[\"geometry\"].append(geom)\n",
    "    \n",
    "    return obj, vertices\n",
    "\n",
    "def shape_to_geom(shape, lod, vertices):\n",
    "    \"\"\"Converts a shapely geometry to a CityJSON geometry\"\"\"\n",
    "    \n",
    "    if shape.geom_type == \"Point\":\n",
    "        geom_type = \"MultiPoint\"\n",
    "        b, v = point_to_geom(shape, vertices)\n",
    "    elif shape.geom_type == \"LineString\":\n",
    "        geom_type = \"MultiLineString\"\n",
    "        b, v = linestring_to_geom(shape, vertices)\n",
    "        b = [b]\n",
    "    elif shape.geom_type == \"MultiLineString\":\n",
    "        geom_type = \"MultiLineString\"\n",
    "        b = []\n",
    "        v = vertices\n",
    "        for line in shape.geoms:\n",
    "            b_temp, v_temp = linestring_to_geom(shape, vertices)\n",
    "            b.append(b_temp)\n",
    "            v.extend(v_temp)\n",
    "    \n",
    "    geom = {\n",
    "        \"type\": geom_type,\n",
    "        \"lod\": lod,\n",
    "        \"boundaries\": b\n",
    "    }\n",
    "    \n",
    "    return (geom, v)\n",
    "\n",
    "def point_to_geom(point, vertices):\n",
    "    \"\"\"Returns the boundary indices and new vertices of Point\"\"\"\n",
    "    \n",
    "    offset = len(vertices)\n",
    "    \n",
    "    indices = [offset]\n",
    "    verts = [point.coords[0]]\n",
    "    \n",
    "    return (indices, verts)\n",
    "\n",
    "def linestring_to_geom(line, vertices):\n",
    "    \"\"\"Returns the boundary indices and new vertices of a LineString\n",
    "    \n",
    "    This only returns the indices of one linestring, therefore it cannot be directly\n",
    "    assigned to a geometry's boundary values.\n",
    "    \"\"\"\n",
    "    \n",
    "    offset = len(vertices)\n",
    "    \n",
    "    indices = [offset + i for i in range(len(line.coords))]\n",
    "    verts = [list(c) for c in line.coords]\n",
    "    \n",
    "    return (indices, verts)"
   ]
  },
  {
   "cell_type": "markdown",
   "id": "f5fd2e52",
   "metadata": {},
   "source": [
    "## Data loading\n",
    "\n",
    "Open the CityJSON file that contains the surfaces:"
   ]
  },
  {
   "cell_type": "code",
   "execution_count": 59,
   "id": "2f4d559b",
   "metadata": {},
   "outputs": [
    {
     "data": {
      "text/plain": [
       "25106"
      ]
     },
     "execution_count": 59,
     "metadata": {},
     "output_type": "execute_result"
    }
   ],
   "source": [
    "with open(citymodel) as file:\n",
    "    cm = json.load(file)\n",
    "\n",
    "len(list(cm[\"CityObjects\"]))"
   ]
  },
  {
   "cell_type": "markdown",
   "id": "fa3d1c5b",
   "metadata": {},
   "source": [
    "Load the centreslines from the geopackage:"
   ]
  },
  {
   "cell_type": "code",
   "execution_count": 8,
   "id": "8586eb84",
   "metadata": {},
   "outputs": [
    {
     "data": {
      "text/plain": [
       "761"
      ]
     },
     "execution_count": 8,
     "metadata": {},
     "output_type": "execute_result"
    }
   ],
   "source": [
    "roads = geopandas.read_file(roads_file)\n",
    "\n",
    "len(roads)"
   ]
  },
  {
   "cell_type": "markdown",
   "id": "7645f150",
   "metadata": {},
   "source": [
    "## CityJSON road storage method #1\n",
    "\n",
    "This code loops through the city objects and for each of them it finds the intersecting centrlines, cuts them based on the original geometry and, finally, stores the centrelines as a MultiLineString in the same object.\n",
    "\n",
    "This method is:\n",
    "- dictated by the input's areal representation geometry, and\n",
    "- only outputs geometry (i.e. MultiSurfaces and MultiLineStrings)\n",
    "\n",
    "Therefore, this method doesn't retain any network information (unless stored as attributes in semantic surfaces)."
   ]
  },
  {
   "cell_type": "code",
   "execution_count": 9,
   "id": "b45b45b8",
   "metadata": {},
   "outputs": [
    {
     "data": {
      "application/vnd.jupyter.widget-view+json": {
       "model_id": "bd9dde2d11c449c9988e206ca5e03daa",
       "version_major": 2,
       "version_minor": 0
      },
      "text/plain": [
       "  0%|          | 0/25106 [00:00<?, ?it/s]"
      ]
     },
     "metadata": {},
     "output_type": "display_data"
    },
    {
     "ename": "KeyboardInterrupt",
     "evalue": "",
     "output_type": "error",
     "traceback": [
      "\u001b[0;31m---------------------------------------------------------------------------\u001b[0m",
      "\u001b[0;31mKeyboardInterrupt\u001b[0m                         Traceback (most recent call last)",
      "\u001b[0;32m<ipython-input-9-8ef49cdbb822>\u001b[0m in \u001b[0;36m<module>\u001b[0;34m\u001b[0m\n\u001b[1;32m      9\u001b[0m     \u001b[0mgeom\u001b[0m \u001b[0;34m=\u001b[0m \u001b[0mgeom\u001b[0m\u001b[0;34m.\u001b[0m\u001b[0mbuffer\u001b[0m\u001b[0;34m(\u001b[0m\u001b[0;36m0\u001b[0m\u001b[0;34m)\u001b[0m\u001b[0;34m\u001b[0m\u001b[0;34m\u001b[0m\u001b[0m\n\u001b[1;32m     10\u001b[0m \u001b[0;34m\u001b[0m\u001b[0m\n\u001b[0;32m---> 11\u001b[0;31m     \u001b[0mintersecting_roads\u001b[0m \u001b[0;34m=\u001b[0m \u001b[0mroads\u001b[0m\u001b[0;34m[\u001b[0m\u001b[0mroads\u001b[0m\u001b[0;34m[\u001b[0m\u001b[0;34m\"geometry\"\u001b[0m\u001b[0;34m]\u001b[0m\u001b[0;34m.\u001b[0m\u001b[0mintersects\u001b[0m\u001b[0;34m(\u001b[0m\u001b[0mgeom\u001b[0m\u001b[0;34m)\u001b[0m\u001b[0;34m]\u001b[0m\u001b[0;34m\u001b[0m\u001b[0;34m\u001b[0m\u001b[0m\n\u001b[0m\u001b[1;32m     12\u001b[0m \u001b[0;31m#     parts = intersecting_roads[\"geometry\"].intersection(geom)\u001b[0m\u001b[0;34m\u001b[0m\u001b[0;34m\u001b[0m\u001b[0;34m\u001b[0m\u001b[0m\n\u001b[1;32m     13\u001b[0m \u001b[0;34m\u001b[0m\u001b[0m\n",
      "\u001b[0;32m~/Development/tudelft3d/roads-storage/venv/lib/python3.9/site-packages/geopandas/geodataframe.py\u001b[0m in \u001b[0;36m__getitem__\u001b[0;34m(self, key)\u001b[0m\n\u001b[1;32m   1297\u001b[0m         \u001b[0mGeoDataFrame\u001b[0m\u001b[0;34m.\u001b[0m\u001b[0;34m\u001b[0m\u001b[0;34m\u001b[0m\u001b[0m\n\u001b[1;32m   1298\u001b[0m         \"\"\"\n\u001b[0;32m-> 1299\u001b[0;31m         \u001b[0mresult\u001b[0m \u001b[0;34m=\u001b[0m \u001b[0msuper\u001b[0m\u001b[0;34m(\u001b[0m\u001b[0mGeoDataFrame\u001b[0m\u001b[0;34m,\u001b[0m \u001b[0mself\u001b[0m\u001b[0;34m)\u001b[0m\u001b[0;34m.\u001b[0m\u001b[0m__getitem__\u001b[0m\u001b[0;34m(\u001b[0m\u001b[0mkey\u001b[0m\u001b[0;34m)\u001b[0m\u001b[0;34m\u001b[0m\u001b[0;34m\u001b[0m\u001b[0m\n\u001b[0m\u001b[1;32m   1300\u001b[0m         \u001b[0mgeo_col\u001b[0m \u001b[0;34m=\u001b[0m \u001b[0mself\u001b[0m\u001b[0;34m.\u001b[0m\u001b[0m_geometry_column_name\u001b[0m\u001b[0;34m\u001b[0m\u001b[0;34m\u001b[0m\u001b[0m\n\u001b[1;32m   1301\u001b[0m         \u001b[0;32mif\u001b[0m \u001b[0misinstance\u001b[0m\u001b[0;34m(\u001b[0m\u001b[0mresult\u001b[0m\u001b[0;34m,\u001b[0m \u001b[0mSeries\u001b[0m\u001b[0;34m)\u001b[0m \u001b[0;32mand\u001b[0m \u001b[0misinstance\u001b[0m\u001b[0;34m(\u001b[0m\u001b[0mresult\u001b[0m\u001b[0;34m.\u001b[0m\u001b[0mdtype\u001b[0m\u001b[0;34m,\u001b[0m \u001b[0mGeometryDtype\u001b[0m\u001b[0;34m)\u001b[0m\u001b[0;34m:\u001b[0m\u001b[0;34m\u001b[0m\u001b[0;34m\u001b[0m\u001b[0m\n",
      "\u001b[0;32m~/Development/tudelft3d/roads-storage/venv/lib/python3.9/site-packages/pandas/core/frame.py\u001b[0m in \u001b[0;36m__getitem__\u001b[0;34m(self, key)\u001b[0m\n\u001b[1;32m   3013\u001b[0m         \u001b[0;31m# Do we have a (boolean) 1d indexer?\u001b[0m\u001b[0;34m\u001b[0m\u001b[0;34m\u001b[0m\u001b[0;34m\u001b[0m\u001b[0m\n\u001b[1;32m   3014\u001b[0m         \u001b[0;32mif\u001b[0m \u001b[0mcom\u001b[0m\u001b[0;34m.\u001b[0m\u001b[0mis_bool_indexer\u001b[0m\u001b[0;34m(\u001b[0m\u001b[0mkey\u001b[0m\u001b[0;34m)\u001b[0m\u001b[0;34m:\u001b[0m\u001b[0;34m\u001b[0m\u001b[0;34m\u001b[0m\u001b[0m\n\u001b[0;32m-> 3015\u001b[0;31m             \u001b[0;32mreturn\u001b[0m \u001b[0mself\u001b[0m\u001b[0;34m.\u001b[0m\u001b[0m_getitem_bool_array\u001b[0m\u001b[0;34m(\u001b[0m\u001b[0mkey\u001b[0m\u001b[0;34m)\u001b[0m\u001b[0;34m\u001b[0m\u001b[0;34m\u001b[0m\u001b[0m\n\u001b[0m\u001b[1;32m   3016\u001b[0m \u001b[0;34m\u001b[0m\u001b[0m\n\u001b[1;32m   3017\u001b[0m         \u001b[0;31m# We are left with two options: a single key, and a collection of keys,\u001b[0m\u001b[0;34m\u001b[0m\u001b[0;34m\u001b[0m\u001b[0;34m\u001b[0m\u001b[0m\n",
      "\u001b[0;32m~/Development/tudelft3d/roads-storage/venv/lib/python3.9/site-packages/pandas/core/frame.py\u001b[0m in \u001b[0;36m_getitem_bool_array\u001b[0;34m(self, key)\u001b[0m\n\u001b[1;32m   3068\u001b[0m         \u001b[0mkey\u001b[0m \u001b[0;34m=\u001b[0m \u001b[0mcheck_bool_indexer\u001b[0m\u001b[0;34m(\u001b[0m\u001b[0mself\u001b[0m\u001b[0;34m.\u001b[0m\u001b[0mindex\u001b[0m\u001b[0;34m,\u001b[0m \u001b[0mkey\u001b[0m\u001b[0;34m)\u001b[0m\u001b[0;34m\u001b[0m\u001b[0;34m\u001b[0m\u001b[0m\n\u001b[1;32m   3069\u001b[0m         \u001b[0mindexer\u001b[0m \u001b[0;34m=\u001b[0m \u001b[0mkey\u001b[0m\u001b[0;34m.\u001b[0m\u001b[0mnonzero\u001b[0m\u001b[0;34m(\u001b[0m\u001b[0;34m)\u001b[0m\u001b[0;34m[\u001b[0m\u001b[0;36m0\u001b[0m\u001b[0;34m]\u001b[0m\u001b[0;34m\u001b[0m\u001b[0;34m\u001b[0m\u001b[0m\n\u001b[0;32m-> 3070\u001b[0;31m         \u001b[0;32mreturn\u001b[0m \u001b[0mself\u001b[0m\u001b[0;34m.\u001b[0m\u001b[0m_take_with_is_copy\u001b[0m\u001b[0;34m(\u001b[0m\u001b[0mindexer\u001b[0m\u001b[0;34m,\u001b[0m \u001b[0maxis\u001b[0m\u001b[0;34m=\u001b[0m\u001b[0;36m0\u001b[0m\u001b[0;34m)\u001b[0m\u001b[0;34m\u001b[0m\u001b[0;34m\u001b[0m\u001b[0m\n\u001b[0m\u001b[1;32m   3071\u001b[0m \u001b[0;34m\u001b[0m\u001b[0m\n\u001b[1;32m   3072\u001b[0m     \u001b[0;32mdef\u001b[0m \u001b[0m_getitem_multilevel\u001b[0m\u001b[0;34m(\u001b[0m\u001b[0mself\u001b[0m\u001b[0;34m,\u001b[0m \u001b[0mkey\u001b[0m\u001b[0;34m)\u001b[0m\u001b[0;34m:\u001b[0m\u001b[0;34m\u001b[0m\u001b[0;34m\u001b[0m\u001b[0m\n",
      "\u001b[0;32m~/Development/tudelft3d/roads-storage/venv/lib/python3.9/site-packages/pandas/core/generic.py\u001b[0m in \u001b[0;36m_take_with_is_copy\u001b[0;34m(self, indices, axis)\u001b[0m\n\u001b[1;32m   3598\u001b[0m         \u001b[0mSee\u001b[0m \u001b[0mthe\u001b[0m \u001b[0mdocstring\u001b[0m \u001b[0mof\u001b[0m\u001b[0;31m \u001b[0m\u001b[0;31m`\u001b[0m\u001b[0mtake\u001b[0m\u001b[0;31m`\u001b[0m \u001b[0;32mfor\u001b[0m \u001b[0mfull\u001b[0m \u001b[0mexplanation\u001b[0m \u001b[0mof\u001b[0m \u001b[0mthe\u001b[0m \u001b[0mparameters\u001b[0m\u001b[0;34m.\u001b[0m\u001b[0;34m\u001b[0m\u001b[0;34m\u001b[0m\u001b[0m\n\u001b[1;32m   3599\u001b[0m         \"\"\"\n\u001b[0;32m-> 3600\u001b[0;31m         \u001b[0mresult\u001b[0m \u001b[0;34m=\u001b[0m \u001b[0mself\u001b[0m\u001b[0;34m.\u001b[0m\u001b[0mtake\u001b[0m\u001b[0;34m(\u001b[0m\u001b[0mindices\u001b[0m\u001b[0;34m=\u001b[0m\u001b[0mindices\u001b[0m\u001b[0;34m,\u001b[0m \u001b[0maxis\u001b[0m\u001b[0;34m=\u001b[0m\u001b[0maxis\u001b[0m\u001b[0;34m)\u001b[0m\u001b[0;34m\u001b[0m\u001b[0;34m\u001b[0m\u001b[0m\n\u001b[0m\u001b[1;32m   3601\u001b[0m         \u001b[0;31m# Maybe set copy if we didn't actually change the index.\u001b[0m\u001b[0;34m\u001b[0m\u001b[0;34m\u001b[0m\u001b[0;34m\u001b[0m\u001b[0m\n\u001b[1;32m   3602\u001b[0m         \u001b[0;32mif\u001b[0m \u001b[0;32mnot\u001b[0m \u001b[0mresult\u001b[0m\u001b[0;34m.\u001b[0m\u001b[0m_get_axis\u001b[0m\u001b[0;34m(\u001b[0m\u001b[0maxis\u001b[0m\u001b[0;34m)\u001b[0m\u001b[0;34m.\u001b[0m\u001b[0mequals\u001b[0m\u001b[0;34m(\u001b[0m\u001b[0mself\u001b[0m\u001b[0;34m.\u001b[0m\u001b[0m_get_axis\u001b[0m\u001b[0;34m(\u001b[0m\u001b[0maxis\u001b[0m\u001b[0;34m)\u001b[0m\u001b[0;34m)\u001b[0m\u001b[0;34m:\u001b[0m\u001b[0;34m\u001b[0m\u001b[0;34m\u001b[0m\u001b[0m\n",
      "\u001b[0;32m~/Development/tudelft3d/roads-storage/venv/lib/python3.9/site-packages/pandas/core/generic.py\u001b[0m in \u001b[0;36mtake\u001b[0;34m(self, indices, axis, is_copy, **kwargs)\u001b[0m\n\u001b[1;32m   3587\u001b[0m             \u001b[0mindices\u001b[0m\u001b[0;34m,\u001b[0m \u001b[0maxis\u001b[0m\u001b[0;34m=\u001b[0m\u001b[0mself\u001b[0m\u001b[0;34m.\u001b[0m\u001b[0m_get_block_manager_axis\u001b[0m\u001b[0;34m(\u001b[0m\u001b[0maxis\u001b[0m\u001b[0;34m)\u001b[0m\u001b[0;34m,\u001b[0m \u001b[0mverify\u001b[0m\u001b[0;34m=\u001b[0m\u001b[0;32mTrue\u001b[0m\u001b[0;34m\u001b[0m\u001b[0;34m\u001b[0m\u001b[0m\n\u001b[1;32m   3588\u001b[0m         )\n\u001b[0;32m-> 3589\u001b[0;31m         \u001b[0;32mreturn\u001b[0m \u001b[0mself\u001b[0m\u001b[0;34m.\u001b[0m\u001b[0m_constructor\u001b[0m\u001b[0;34m(\u001b[0m\u001b[0mnew_data\u001b[0m\u001b[0;34m)\u001b[0m\u001b[0;34m.\u001b[0m\u001b[0m__finalize__\u001b[0m\u001b[0;34m(\u001b[0m\u001b[0mself\u001b[0m\u001b[0;34m,\u001b[0m \u001b[0mmethod\u001b[0m\u001b[0;34m=\u001b[0m\u001b[0;34m\"take\"\u001b[0m\u001b[0;34m)\u001b[0m\u001b[0;34m\u001b[0m\u001b[0;34m\u001b[0m\u001b[0m\n\u001b[0m\u001b[1;32m   3590\u001b[0m \u001b[0;34m\u001b[0m\u001b[0m\n\u001b[1;32m   3591\u001b[0m     \u001b[0;34m@\u001b[0m\u001b[0mfinal\u001b[0m\u001b[0;34m\u001b[0m\u001b[0;34m\u001b[0m\u001b[0m\n",
      "\u001b[0;32m~/Development/tudelft3d/roads-storage/venv/lib/python3.9/site-packages/geopandas/geodataframe.py\u001b[0m in \u001b[0;36m__init__\u001b[0;34m(self, geometry, crs, *args, **kwargs)\u001b[0m\n\u001b[1;32m    165\u001b[0m                 )\n\u001b[1;32m    166\u001b[0m                 \u001b[0;31m# TODO: raise error in 0.9 or 0.10.\u001b[0m\u001b[0;34m\u001b[0m\u001b[0;34m\u001b[0m\u001b[0;34m\u001b[0m\u001b[0m\n\u001b[0;32m--> 167\u001b[0;31m             \u001b[0mself\u001b[0m\u001b[0;34m.\u001b[0m\u001b[0mset_geometry\u001b[0m\u001b[0;34m(\u001b[0m\u001b[0mgeometry\u001b[0m\u001b[0;34m,\u001b[0m \u001b[0minplace\u001b[0m\u001b[0;34m=\u001b[0m\u001b[0;32mTrue\u001b[0m\u001b[0;34m)\u001b[0m\u001b[0;34m\u001b[0m\u001b[0;34m\u001b[0m\u001b[0m\n\u001b[0m\u001b[1;32m    168\u001b[0m \u001b[0;34m\u001b[0m\u001b[0m\n\u001b[1;32m    169\u001b[0m         \u001b[0;32mif\u001b[0m \u001b[0mgeometry\u001b[0m \u001b[0;32mis\u001b[0m \u001b[0;32mNone\u001b[0m \u001b[0;32mand\u001b[0m \u001b[0mcrs\u001b[0m\u001b[0;34m:\u001b[0m\u001b[0;34m\u001b[0m\u001b[0;34m\u001b[0m\u001b[0m\n",
      "\u001b[0;32m~/Development/tudelft3d/roads-storage/venv/lib/python3.9/site-packages/geopandas/geodataframe.py\u001b[0m in \u001b[0;36mset_geometry\u001b[0;34m(self, col, drop, inplace, crs)\u001b[0m\n\u001b[1;32m    287\u001b[0m             \u001b[0mcrs\u001b[0m \u001b[0;34m=\u001b[0m \u001b[0mlevel_crs\u001b[0m \u001b[0;32mif\u001b[0m \u001b[0mlevel_crs\u001b[0m \u001b[0;32mis\u001b[0m \u001b[0;32mnot\u001b[0m \u001b[0;32mNone\u001b[0m \u001b[0;32melse\u001b[0m \u001b[0mself\u001b[0m\u001b[0;34m.\u001b[0m\u001b[0m_crs\u001b[0m\u001b[0;34m\u001b[0m\u001b[0;34m\u001b[0m\u001b[0m\n\u001b[1;32m    288\u001b[0m \u001b[0;34m\u001b[0m\u001b[0m\n\u001b[0;32m--> 289\u001b[0;31m         \u001b[0;32mif\u001b[0m \u001b[0misinstance\u001b[0m\u001b[0;34m(\u001b[0m\u001b[0mlevel\u001b[0m\u001b[0;34m,\u001b[0m \u001b[0;34m(\u001b[0m\u001b[0mGeoSeries\u001b[0m\u001b[0;34m,\u001b[0m \u001b[0mGeometryArray\u001b[0m\u001b[0;34m)\u001b[0m\u001b[0;34m)\u001b[0m \u001b[0;32mand\u001b[0m \u001b[0mlevel\u001b[0m\u001b[0;34m.\u001b[0m\u001b[0mcrs\u001b[0m \u001b[0;34m!=\u001b[0m \u001b[0mcrs\u001b[0m\u001b[0;34m:\u001b[0m\u001b[0;34m\u001b[0m\u001b[0;34m\u001b[0m\u001b[0m\n\u001b[0m\u001b[1;32m    290\u001b[0m             \u001b[0;31m# Avoids caching issues/crs sharing issues\u001b[0m\u001b[0;34m\u001b[0m\u001b[0;34m\u001b[0m\u001b[0;34m\u001b[0m\u001b[0m\n\u001b[1;32m    291\u001b[0m             \u001b[0mlevel\u001b[0m \u001b[0;34m=\u001b[0m \u001b[0mlevel\u001b[0m\u001b[0;34m.\u001b[0m\u001b[0mcopy\u001b[0m\u001b[0;34m(\u001b[0m\u001b[0;34m)\u001b[0m\u001b[0;34m\u001b[0m\u001b[0;34m\u001b[0m\u001b[0m\n",
      "\u001b[0;32m~/Development/tudelft3d/roads-storage/venv/lib/python3.9/site-packages/pyproj/crs/crs.py\u001b[0m in \u001b[0;36m__ne__\u001b[0;34m(self, other)\u001b[0m\n\u001b[1;32m    994\u001b[0m \u001b[0;34m\u001b[0m\u001b[0m\n\u001b[1;32m    995\u001b[0m     \u001b[0;32mdef\u001b[0m \u001b[0m__ne__\u001b[0m\u001b[0;34m(\u001b[0m\u001b[0mself\u001b[0m\u001b[0;34m,\u001b[0m \u001b[0mother\u001b[0m\u001b[0;34m:\u001b[0m \u001b[0mAny\u001b[0m\u001b[0;34m)\u001b[0m \u001b[0;34m->\u001b[0m \u001b[0mbool\u001b[0m\u001b[0;34m:\u001b[0m\u001b[0;34m\u001b[0m\u001b[0;34m\u001b[0m\u001b[0m\n\u001b[0;32m--> 996\u001b[0;31m         \u001b[0;32mreturn\u001b[0m \u001b[0;32mnot\u001b[0m \u001b[0mself\u001b[0m \u001b[0;34m==\u001b[0m \u001b[0mother\u001b[0m\u001b[0;34m\u001b[0m\u001b[0;34m\u001b[0m\u001b[0m\n\u001b[0m\u001b[1;32m    997\u001b[0m \u001b[0;34m\u001b[0m\u001b[0m\n\u001b[1;32m    998\u001b[0m     \u001b[0;32mdef\u001b[0m \u001b[0m__reduce__\u001b[0m\u001b[0;34m(\u001b[0m\u001b[0mself\u001b[0m\u001b[0;34m)\u001b[0m \u001b[0;34m->\u001b[0m \u001b[0mTuple\u001b[0m\u001b[0;34m[\u001b[0m\u001b[0mType\u001b[0m\u001b[0;34m[\u001b[0m\u001b[0;34m\"CRS\"\u001b[0m\u001b[0;34m]\u001b[0m\u001b[0;34m,\u001b[0m \u001b[0mTuple\u001b[0m\u001b[0;34m[\u001b[0m\u001b[0mstr\u001b[0m\u001b[0;34m]\u001b[0m\u001b[0;34m]\u001b[0m\u001b[0;34m:\u001b[0m\u001b[0;34m\u001b[0m\u001b[0;34m\u001b[0m\u001b[0m\n",
      "\u001b[0;32m~/Development/tudelft3d/roads-storage/venv/lib/python3.9/site-packages/pyproj/crs/crs.py\u001b[0m in \u001b[0;36m__eq__\u001b[0;34m(self, other)\u001b[0m\n\u001b[1;32m    991\u001b[0m \u001b[0;34m\u001b[0m\u001b[0m\n\u001b[1;32m    992\u001b[0m     \u001b[0;32mdef\u001b[0m \u001b[0m__eq__\u001b[0m\u001b[0;34m(\u001b[0m\u001b[0mself\u001b[0m\u001b[0;34m,\u001b[0m \u001b[0mother\u001b[0m\u001b[0;34m:\u001b[0m \u001b[0mAny\u001b[0m\u001b[0;34m)\u001b[0m \u001b[0;34m->\u001b[0m \u001b[0mbool\u001b[0m\u001b[0;34m:\u001b[0m\u001b[0;34m\u001b[0m\u001b[0;34m\u001b[0m\u001b[0m\n\u001b[0;32m--> 993\u001b[0;31m         \u001b[0;32mreturn\u001b[0m \u001b[0mself\u001b[0m\u001b[0;34m.\u001b[0m\u001b[0mequals\u001b[0m\u001b[0;34m(\u001b[0m\u001b[0mother\u001b[0m\u001b[0;34m)\u001b[0m\u001b[0;34m\u001b[0m\u001b[0;34m\u001b[0m\u001b[0m\n\u001b[0m\u001b[1;32m    994\u001b[0m \u001b[0;34m\u001b[0m\u001b[0m\n\u001b[1;32m    995\u001b[0m     \u001b[0;32mdef\u001b[0m \u001b[0m__ne__\u001b[0m\u001b[0;34m(\u001b[0m\u001b[0mself\u001b[0m\u001b[0;34m,\u001b[0m \u001b[0mother\u001b[0m\u001b[0;34m:\u001b[0m \u001b[0mAny\u001b[0m\u001b[0;34m)\u001b[0m \u001b[0;34m->\u001b[0m \u001b[0mbool\u001b[0m\u001b[0;34m:\u001b[0m\u001b[0;34m\u001b[0m\u001b[0;34m\u001b[0m\u001b[0m\n",
      "\u001b[0;32m~/Development/tudelft3d/roads-storage/venv/lib/python3.9/site-packages/pyproj/crs/crs.py\u001b[0m in \u001b[0;36mequals\u001b[0;34m(self, other, ignore_axis_order)\u001b[0m\n\u001b[1;32m    905\u001b[0m         \u001b[0;32mexcept\u001b[0m \u001b[0mCRSError\u001b[0m\u001b[0;34m:\u001b[0m\u001b[0;34m\u001b[0m\u001b[0;34m\u001b[0m\u001b[0m\n\u001b[1;32m    906\u001b[0m             \u001b[0;32mreturn\u001b[0m \u001b[0;32mFalse\u001b[0m\u001b[0;34m\u001b[0m\u001b[0;34m\u001b[0m\u001b[0m\n\u001b[0;32m--> 907\u001b[0;31m         \u001b[0;32mreturn\u001b[0m \u001b[0msuper\u001b[0m\u001b[0;34m(\u001b[0m\u001b[0;34m)\u001b[0m\u001b[0;34m.\u001b[0m\u001b[0mequals\u001b[0m\u001b[0;34m(\u001b[0m\u001b[0mother\u001b[0m\u001b[0;34m,\u001b[0m \u001b[0mignore_axis_order\u001b[0m\u001b[0;34m=\u001b[0m\u001b[0mignore_axis_order\u001b[0m\u001b[0;34m)\u001b[0m\u001b[0;34m\u001b[0m\u001b[0;34m\u001b[0m\u001b[0m\n\u001b[0m\u001b[1;32m    908\u001b[0m \u001b[0;34m\u001b[0m\u001b[0m\n\u001b[1;32m    909\u001b[0m     \u001b[0;34m@\u001b[0m\u001b[0mproperty\u001b[0m\u001b[0;34m\u001b[0m\u001b[0;34m\u001b[0m\u001b[0m\n",
      "\u001b[0;31mKeyboardInterrupt\u001b[0m: "
     ]
    }
   ],
   "source": [
    "# TODO: Speed this up with an index\n",
    "for objid, cobj in tqdm(cm[\"CityObjects\"].items()):\n",
    "    assert len(cobj[\"geometry\"]) == 1\n",
    "    \n",
    "    citygeom = cobj[\"geometry\"][0]\n",
    "    \n",
    "    geom = geom_to_multipolygon(citygeom, cm[\"vertices\"])\n",
    "    # We need to make the geometry valid\n",
    "    geom = geom.buffer(0)\n",
    "    \n",
    "    intersecting_roads = roads[roads[\"geometry\"].intersects(geom)]\n",
    "#     parts = intersecting_roads[\"geometry\"].intersection(geom)\n",
    "    \n",
    "    boundaries = []\n",
    "    semantics = {\n",
    "        \"values\": [],\n",
    "        \"surfaces\": []\n",
    "    }\n",
    "    \n",
    "    for idx, road in intersecting_roads.iterrows():\n",
    "        lines = road[\"geometry\"].intersection(geom)\n",
    "        if lines.type == \"LineString\":\n",
    "            lines = MultiLineString([lines])\n",
    "            \n",
    "        for line in lines.geoms:\n",
    "            b, v = linestring_to_geom(line, cm[\"vertices\"])\n",
    "\n",
    "            boundaries.append(b)\n",
    "            cm[\"vertices\"].extend(v)\n",
    "\n",
    "            semantics[\"values\"].append(len(semantics[\"surfaces\"]))\n",
    "\n",
    "            atts = dict(road)\n",
    "            del atts[\"geometry\"]\n",
    "\n",
    "            semantics[\"surfaces\"].append(atts)\n",
    "    \n",
    "    new_geometry = {\n",
    "        \"type\": \"MultiLineString\",\n",
    "        \"boundaries\": boundaries,\n",
    "        \"semantics\": semantics\n",
    "    }\n",
    "    \n",
    "    cobj[\"geometry\"].append(new_geometry)"
   ]
  },
  {
   "cell_type": "markdown",
   "id": "fb61b038",
   "metadata": {},
   "source": [
    "And here we store the output:"
   ]
  },
  {
   "cell_type": "code",
   "execution_count": 151,
   "id": "9ff3d773",
   "metadata": {},
   "outputs": [],
   "source": [
    "with open(output, \"w\") as out:\n",
    "    json.dump(cm, out)"
   ]
  },
  {
   "cell_type": "markdown",
   "id": "18b47c92",
   "metadata": {},
   "source": [
    "## CityJSON road storage method #2\n",
    "\n",
    "This method introduces a network extension for CityJSON to store the linear network of roads. This is done through a `\"+network\"` attribute that holds the relationship information between nodes and edges of the network.\n",
    "\n",
    "First, we split any multi-parts to single parts:"
   ]
  },
  {
   "cell_type": "code",
   "execution_count": 11,
   "id": "20816c64",
   "metadata": {},
   "outputs": [],
   "source": [
    "segments = roads.explode()"
   ]
  },
  {
   "cell_type": "markdown",
   "id": "00cf7952",
   "metadata": {},
   "source": [
    "Then we make temporary u and v nodes using the lexigographic coordinates of the nodes:"
   ]
  },
  {
   "cell_type": "code",
   "execution_count": 12,
   "id": "27e284a2",
   "metadata": {
    "scrolled": false
   },
   "outputs": [],
   "source": [
    "import shapely\n",
    "import pandas as pd\n",
    "\n",
    "def fix_precision(geom, decimals=3):\n",
    "    return shapely.wkt.loads(shapely.wkt.dumps(geom, rounding_precision=decimals))\n",
    "\n",
    "def get_lexicographic_boundaries(f, geom_col=\"geometry\"):\n",
    "    round_geom = fix_precision(f[geom_col])\n",
    "    \n",
    "    try:\n",
    "        return [str(round_geom.coords[0]), str(round_geom.coords[-1])]\n",
    "    except Exception as e:\n",
    "        print(f)\n",
    "        raise e\n",
    "\n",
    "tmp = segments.apply(get_lexicographic_boundaries, axis=1)\n",
    "segments['u_node'] = [a[0] for a in tmp]\n",
    "segments['v_node'] = [a[1] for a in tmp]"
   ]
  },
  {
   "cell_type": "markdown",
   "id": "cca8da0b",
   "metadata": {},
   "source": [
    "We assign an id to every unique set of coordinates:"
   ]
  },
  {
   "cell_type": "code",
   "execution_count": 13,
   "id": "32783a37",
   "metadata": {},
   "outputs": [
    {
     "data": {
      "text/plain": [
       "513"
      ]
     },
     "execution_count": 13,
     "metadata": {},
     "output_type": "execute_result"
    }
   ],
   "source": [
    "nodes = set(list(pd.unique(segments['u_node'])) + list(pd.unique(segments['v_node'])))\n",
    "\n",
    "node_map = {}\n",
    "for uuid, n in enumerate(nodes):\n",
    "    node_map[n] = uuid\n",
    "\n",
    "len(node_map)"
   ]
  },
  {
   "cell_type": "markdown",
   "id": "bfd6c19f",
   "metadata": {},
   "source": [
    "Finally, setting up the appropriate ids to the u and v nodes of every segment in the dataset:"
   ]
  },
  {
   "cell_type": "code",
   "execution_count": 14,
   "id": "b8921520",
   "metadata": {},
   "outputs": [],
   "source": [
    "def get_node_uuid(f):\n",
    "    return [node_map[f['u_node']], node_map[f['v_node']]]\n",
    "\n",
    "tmp = segments.apply(get_node_uuid, axis=1)\n",
    "segments['u'] = [a[0] for a in tmp]\n",
    "segments['v'] = [a[1] for a in tmp]"
   ]
  },
  {
   "cell_type": "markdown",
   "id": "82eab853",
   "metadata": {},
   "source": [
    "### Save the bloody thing again\n",
    "\n",
    "First we load the citymodel again"
   ]
  },
  {
   "cell_type": "code",
   "execution_count": 15,
   "id": "3740df3f",
   "metadata": {},
   "outputs": [
    {
     "data": {
      "text/plain": [
       "25106"
      ]
     },
     "execution_count": 15,
     "metadata": {},
     "output_type": "execute_result"
    }
   ],
   "source": [
    "with open(citymodel) as file:\n",
    "    cm = json.load(file)\n",
    "\n",
    "len(list(cm[\"CityObjects\"]))"
   ]
  },
  {
   "cell_type": "code",
   "execution_count": 16,
   "id": "08488be7",
   "metadata": {},
   "outputs": [],
   "source": [
    "cm[\"+network\"] = {\n",
    "    \"nodes\": {},\n",
    "    \"edges\": {}\n",
    "}"
   ]
  },
  {
   "cell_type": "code",
   "execution_count": 17,
   "id": "0f0ab578",
   "metadata": {},
   "outputs": [],
   "source": [
    "cm[\"+network\"][\"nodes\"] = {i: {\"geometry\": str(shapely.geometry.Point(eval(c)))} for c, i in node_map.items()}"
   ]
  },
  {
   "cell_type": "code",
   "execution_count": 18,
   "id": "60b5a436",
   "metadata": {},
   "outputs": [],
   "source": [
    "segments[\"geom_str\"] = segments.apply(lambda f: str(f[\"geometry\"]), axis=1)\n",
    "cm[\"+network\"][\"edges\"] = segments.set_index(\"ID_TRC\")[[\"u\", \"v\", \"geom_str\"]].to_dict(orient=\"index\")"
   ]
  },
  {
   "cell_type": "code",
   "execution_count": 20,
   "id": "2cd992f3",
   "metadata": {},
   "outputs": [
    {
     "data": {
      "application/vnd.jupyter.widget-view+json": {
       "model_id": "cd9d3872f6bb4c9d967bfdda024910fb",
       "version_major": 2,
       "version_minor": 0
      },
      "text/plain": [
       "  0%|          | 0/25106 [00:00<?, ?it/s]"
      ]
     },
     "metadata": {},
     "output_type": "display_data"
    }
   ],
   "source": [
    "for objid, cobj in tqdm(cm[\"CityObjects\"].items()):\n",
    "    assert len(cobj[\"geometry\"]) == 1\n",
    "    \n",
    "    citygeom = cobj[\"geometry\"][0]\n",
    "    \n",
    "    geom = geom_to_multipolygon(citygeom, cm[\"vertices\"])\n",
    "    # We need to make the geometry valid\n",
    "    geom = geom.buffer(0)\n",
    "    \n",
    "    intersecting_roads = roads[roads[\"geometry\"].intersects(geom)]\n",
    "    \n",
    "    cobj[\"+edges\"] = list(intersecting_roads[\"ID_TRC\"])"
   ]
  },
  {
   "cell_type": "code",
   "execution_count": 90,
   "id": "d5d75d66",
   "metadata": {},
   "outputs": [
    {
     "data": {
      "text/plain": [
       "'{fff92a18-6fb6-466c-9004-541b938a4020}'"
      ]
     },
     "execution_count": 90,
     "metadata": {},
     "output_type": "execute_result"
    }
   ],
   "source": [
    "objid"
   ]
  },
  {
   "cell_type": "code",
   "execution_count": 21,
   "id": "c2e8e910",
   "metadata": {},
   "outputs": [],
   "source": [
    "with open(output_network, \"w\") as out:\n",
    "    json.dump(cm, out)"
   ]
  },
  {
   "cell_type": "markdown",
   "id": "a983b808",
   "metadata": {},
   "source": [
    "## CityJSON roads storage method #3\n",
    "\n",
    "With this method, we store nodes and edges of the network as CityObjects. Their attributes are enough to allow for someone to reconstruct the topology and they are easy to visualise. In order to make sense of any relations between the objects, we use `CityObjectGroup` objects."
   ]
  },
  {
   "cell_type": "code",
   "execution_count": 66,
   "id": "317a5083",
   "metadata": {},
   "outputs": [],
   "source": [
    "geonodes = geopandas.GeoDataFrame([[f\"Node_{i}\", \"node\", shapely.geometry.Point(eval(c))] for c, i in node_map.items()], columns=[\"id\", \"network_type\", \"geometry\"], geometry=\"geometry\")\n",
    "\n",
    "geonodes = geonodes.set_index(\"id\")\n",
    "\n",
    "for co_id in geonodes.index:\n",
    "    obj, new_verts = create_cityobject(geonodes.loc[co_id], cm[\"vertices\"], obj_type=\"Road\", lod=\"0.1\")\n",
    "    \n",
    "    cm[\"CityObjects\"][co_id] = obj\n",
    "    cm[\"vertices\"].extend(new_verts)"
   ]
  },
  {
   "cell_type": "code",
   "execution_count": 67,
   "id": "b8ead7b8",
   "metadata": {},
   "outputs": [],
   "source": [
    "edges = segments.drop([\"u_node\", \"v_node\", \"geom_str\"], axis=1)\n",
    "\n",
    "edges = edges.set_index(\"ID_TRC\")\n",
    "\n",
    "for co_id in edges.index:\n",
    "    obj, new_verts = create_cityobject(edges.loc[co_id], cm[\"vertices\"], obj_type=\"Road\", lod=\"0.1\")\n",
    "    \n",
    "    cm[\"CityObjects\"][str(co_id)] = obj\n",
    "    cm[\"vertices\"].extend(new_verts)"
   ]
  },
  {
   "cell_type": "code",
   "execution_count": 97,
   "id": "82c218b8",
   "metadata": {},
   "outputs": [],
   "source": [
    "for nom_voie, features in edges.groupby(\"NOM_VOIE\"):\n",
    "    group_id = f\"Street_{nom_voie}\"\n",
    "    cm[\"CityObjects\"][group_id] = {\n",
    "        \"type\": \"CityObjectGroup\",\n",
    "        \"members\": [str(idx) for idx in features.index],\n",
    "        \"attributes\": {\n",
    "            \"nom_voie\": nom_voie\n",
    "        }\n",
    "    }"
   ]
  },
  {
   "cell_type": "code",
   "execution_count": 102,
   "id": "d3096f64",
   "metadata": {},
   "outputs": [],
   "source": [
    "cm[\"CityObjects\"][\"Street Nodes\"] = {\n",
    "    \"type\": \"CityObjectGroup\",\n",
    "    \"members\": geonodes.index\n",
    "}\n",
    "\n",
    "cm[\"CityObjects\"][\"Street Edges\"] = {\n",
    "    \"type\": \"CityObjectGroup\",\n",
    "    \"members\": [str(idx) for idx in edges.index]\n",
    "}"
   ]
  },
  {
   "cell_type": "code",
   "execution_count": 98,
   "id": "ff1b7f87",
   "metadata": {},
   "outputs": [],
   "source": [
    "import numpy as np\n",
    "\n",
    "class NpEncoder(json.JSONEncoder):\n",
    "    def default(self, obj):\n",
    "        if isinstance(obj, np.integer):\n",
    "            return int(obj)\n",
    "        if isinstance(obj, np.floating):\n",
    "            return float(obj)\n",
    "        if isinstance(obj, np.ndarray):\n",
    "            return obj.tolist()\n",
    "        return super(NpEncoder, self).default(obj)\n",
    "\n",
    "with open(output_groups, \"w\") as out:\n",
    "    json.dump(cm, out, cls=NpEncoder)"
   ]
  },
  {
   "cell_type": "markdown",
   "id": "4bc8a46a",
   "metadata": {},
   "source": [
    "- Finish storage as it is now.\n",
    "- Make storage work with gpkg as input.\n",
    "- Group things together"
   ]
  }
 ],
 "metadata": {
  "kernelspec": {
   "display_name": "Python 3",
   "language": "python",
   "name": "python3"
  },
  "language_info": {
   "codemirror_mode": {
    "name": "ipython",
    "version": 3
   },
   "file_extension": ".py",
   "mimetype": "text/x-python",
   "name": "python",
   "nbconvert_exporter": "python",
   "pygments_lexer": "ipython3",
   "version": "3.9.6"
  }
 },
 "nbformat": 4,
 "nbformat_minor": 5
}
